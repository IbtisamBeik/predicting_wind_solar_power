{
 "cells": [
  {
   "cell_type": "code",
   "execution_count": 106,
   "metadata": {},
   "outputs": [],
   "source": [
    "import numpy as np\n",
    "import pandas as pd\n",
    "import matplotlib.pyplot as plt\n",
    "import seaborn as sns\n",
    "%matplotlib inline\n",
    "from sklearn.linear_model import LinearRegression\n",
    "from sklearn.model_selection import cross_val_score\n",
    "from sklearn.metrics import r2_score\n",
    "from sklearn.preprocessing import StandardScaler\n",
    "from sklearn.metrics import mean_squared_error\n",
    "from sklearn.ensemble import RandomForestRegressor\n",
    "from sklearn.tree import DecisionTreeRegressor\n",
    "from sklearn.datasets import fetch_openml\n",
    "from sklearn.impute import SimpleImputer\n",
    "from sklearn.inspection import permutation_importance\n",
    "from sklearn.compose import ColumnTransformer\n",
    "from sklearn.model_selection import train_test_split\n",
    "from sklearn.pipeline import Pipeline\n",
    "from sklearn.preprocessing import OneHotEncoder\n",
    "from statsmodels.api import OLS"
   ]
  },
  {
   "cell_type": "code",
   "execution_count": 45,
   "metadata": {},
   "outputs": [
    {
     "data": {
      "text/html": [
       "<div>\n",
       "<style scoped>\n",
       "    .dataframe tbody tr th:only-of-type {\n",
       "        vertical-align: middle;\n",
       "    }\n",
       "\n",
       "    .dataframe tbody tr th {\n",
       "        vertical-align: top;\n",
       "    }\n",
       "\n",
       "    .dataframe thead th {\n",
       "        text-align: right;\n",
       "    }\n",
       "</style>\n",
       "<table border=\"1\" class=\"dataframe\">\n",
       "  <thead>\n",
       "    <tr style=\"text-align: right;\">\n",
       "      <th></th>\n",
       "      <th>solar_capacity</th>\n",
       "      <th>solar_generation_actual</th>\n",
       "      <th>wind_capacity</th>\n",
       "      <th>wind_generation_actual</th>\n",
       "      <th>windspeed_10m</th>\n",
       "      <th>radiation_direct_horizontal</th>\n",
       "      <th>radiation_diffuse_horizontal</th>\n",
       "      <th>precipitation</th>\n",
       "      <th>temperature</th>\n",
       "      <th>irradiance_surface</th>\n",
       "      <th>irradiance_toa</th>\n",
       "      <th>snowfall</th>\n",
       "      <th>snow_mass</th>\n",
       "      <th>cloud_cover</th>\n",
       "      <th>air_density</th>\n",
       "    </tr>\n",
       "  </thead>\n",
       "  <tbody>\n",
       "    <tr>\n",
       "      <th>2014-01-01 00:00:00+00:00</th>\n",
       "      <td>36012</td>\n",
       "      <td>0.0</td>\n",
       "      <td>32425</td>\n",
       "      <td>8086.0</td>\n",
       "      <td>4.981596</td>\n",
       "      <td>0.0</td>\n",
       "      <td>0.0</td>\n",
       "      <td>0.0364</td>\n",
       "      <td>-1.146</td>\n",
       "      <td>0.0</td>\n",
       "      <td>0.0</td>\n",
       "      <td>0.0056</td>\n",
       "      <td>0.2378</td>\n",
       "      <td>0.9562</td>\n",
       "      <td>1.2539</td>\n",
       "    </tr>\n",
       "    <tr>\n",
       "      <th>2014-01-01 01:00:00+00:00</th>\n",
       "      <td>36012</td>\n",
       "      <td>0.0</td>\n",
       "      <td>32425</td>\n",
       "      <td>8803.0</td>\n",
       "      <td>4.932105</td>\n",
       "      <td>0.0</td>\n",
       "      <td>0.0</td>\n",
       "      <td>0.0449</td>\n",
       "      <td>-1.104</td>\n",
       "      <td>0.0</td>\n",
       "      <td>0.0</td>\n",
       "      <td>0.0074</td>\n",
       "      <td>0.2428</td>\n",
       "      <td>0.9672</td>\n",
       "      <td>1.2535</td>\n",
       "    </tr>\n",
       "    <tr>\n",
       "      <th>2014-01-01 02:00:00+00:00</th>\n",
       "      <td>36012</td>\n",
       "      <td>0.0</td>\n",
       "      <td>32425</td>\n",
       "      <td>8970.0</td>\n",
       "      <td>4.865019</td>\n",
       "      <td>0.0</td>\n",
       "      <td>0.0</td>\n",
       "      <td>0.0513</td>\n",
       "      <td>-1.059</td>\n",
       "      <td>0.0</td>\n",
       "      <td>0.0</td>\n",
       "      <td>0.0129</td>\n",
       "      <td>0.2521</td>\n",
       "      <td>0.9733</td>\n",
       "      <td>1.2530</td>\n",
       "    </tr>\n",
       "    <tr>\n",
       "      <th>2014-01-01 03:00:00+00:00</th>\n",
       "      <td>36012</td>\n",
       "      <td>0.0</td>\n",
       "      <td>32425</td>\n",
       "      <td>8510.0</td>\n",
       "      <td>4.842338</td>\n",
       "      <td>0.0</td>\n",
       "      <td>0.0</td>\n",
       "      <td>0.0544</td>\n",
       "      <td>-0.926</td>\n",
       "      <td>0.0</td>\n",
       "      <td>0.0</td>\n",
       "      <td>0.0140</td>\n",
       "      <td>0.2642</td>\n",
       "      <td>0.9651</td>\n",
       "      <td>1.2523</td>\n",
       "    </tr>\n",
       "    <tr>\n",
       "      <th>2014-01-01 04:00:00+00:00</th>\n",
       "      <td>36012</td>\n",
       "      <td>0.0</td>\n",
       "      <td>32425</td>\n",
       "      <td>8360.0</td>\n",
       "      <td>4.772505</td>\n",
       "      <td>0.0</td>\n",
       "      <td>0.0</td>\n",
       "      <td>0.0512</td>\n",
       "      <td>-0.746</td>\n",
       "      <td>0.0</td>\n",
       "      <td>0.0</td>\n",
       "      <td>0.0144</td>\n",
       "      <td>0.2764</td>\n",
       "      <td>0.9370</td>\n",
       "      <td>1.2516</td>\n",
       "    </tr>\n",
       "    <tr>\n",
       "      <th>...</th>\n",
       "      <td>...</td>\n",
       "      <td>...</td>\n",
       "      <td>...</td>\n",
       "      <td>...</td>\n",
       "      <td>...</td>\n",
       "      <td>...</td>\n",
       "      <td>...</td>\n",
       "      <td>...</td>\n",
       "      <td>...</td>\n",
       "      <td>...</td>\n",
       "      <td>...</td>\n",
       "      <td>...</td>\n",
       "      <td>...</td>\n",
       "      <td>...</td>\n",
       "      <td>...</td>\n",
       "    </tr>\n",
       "    <tr>\n",
       "      <th>2016-12-31 19:00:00+00:00</th>\n",
       "      <td>40634</td>\n",
       "      <td>0.0</td>\n",
       "      <td>49021</td>\n",
       "      <td>15303.0</td>\n",
       "      <td>4.212916</td>\n",
       "      <td>0.0</td>\n",
       "      <td>0.0</td>\n",
       "      <td>0.0098</td>\n",
       "      <td>-1.970</td>\n",
       "      <td>0.0</td>\n",
       "      <td>0.0</td>\n",
       "      <td>0.0017</td>\n",
       "      <td>0.0931</td>\n",
       "      <td>0.5102</td>\n",
       "      <td>1.2751</td>\n",
       "    </tr>\n",
       "    <tr>\n",
       "      <th>2016-12-31 20:00:00+00:00</th>\n",
       "      <td>40634</td>\n",
       "      <td>0.0</td>\n",
       "      <td>49021</td>\n",
       "      <td>15354.0</td>\n",
       "      <td>4.287475</td>\n",
       "      <td>0.0</td>\n",
       "      <td>0.0</td>\n",
       "      <td>0.0099</td>\n",
       "      <td>-2.130</td>\n",
       "      <td>0.0</td>\n",
       "      <td>0.0</td>\n",
       "      <td>0.0020</td>\n",
       "      <td>0.0944</td>\n",
       "      <td>0.5235</td>\n",
       "      <td>1.2756</td>\n",
       "    </tr>\n",
       "    <tr>\n",
       "      <th>2016-12-31 21:00:00+00:00</th>\n",
       "      <td>40634</td>\n",
       "      <td>0.0</td>\n",
       "      <td>49021</td>\n",
       "      <td>14848.0</td>\n",
       "      <td>4.296530</td>\n",
       "      <td>0.0</td>\n",
       "      <td>0.0</td>\n",
       "      <td>0.0093</td>\n",
       "      <td>-2.293</td>\n",
       "      <td>0.0</td>\n",
       "      <td>0.0</td>\n",
       "      <td>0.0020</td>\n",
       "      <td>0.0959</td>\n",
       "      <td>0.5248</td>\n",
       "      <td>1.2759</td>\n",
       "    </tr>\n",
       "    <tr>\n",
       "      <th>2016-12-31 22:00:00+00:00</th>\n",
       "      <td>40634</td>\n",
       "      <td>0.0</td>\n",
       "      <td>49021</td>\n",
       "      <td>15056.0</td>\n",
       "      <td>4.419977</td>\n",
       "      <td>0.0</td>\n",
       "      <td>0.0</td>\n",
       "      <td>0.0093</td>\n",
       "      <td>-2.443</td>\n",
       "      <td>0.0</td>\n",
       "      <td>0.0</td>\n",
       "      <td>0.0021</td>\n",
       "      <td>0.0973</td>\n",
       "      <td>0.5319</td>\n",
       "      <td>1.2760</td>\n",
       "    </tr>\n",
       "    <tr>\n",
       "      <th>2016-12-31 23:00:00+00:00</th>\n",
       "      <td>40636</td>\n",
       "      <td>0.0</td>\n",
       "      <td>49025</td>\n",
       "      <td>15422.0</td>\n",
       "      <td>4.461064</td>\n",
       "      <td>0.0</td>\n",
       "      <td>0.0</td>\n",
       "      <td>0.0103</td>\n",
       "      <td>-2.624</td>\n",
       "      <td>0.0</td>\n",
       "      <td>0.0</td>\n",
       "      <td>0.0023</td>\n",
       "      <td>0.0988</td>\n",
       "      <td>0.5089</td>\n",
       "      <td>1.2758</td>\n",
       "    </tr>\n",
       "  </tbody>\n",
       "</table>\n",
       "<p>26287 rows × 15 columns</p>\n",
       "</div>"
      ],
      "text/plain": [
       "                           solar_capacity  solar_generation_actual  \\\n",
       "2014-01-01 00:00:00+00:00           36012                      0.0   \n",
       "2014-01-01 01:00:00+00:00           36012                      0.0   \n",
       "2014-01-01 02:00:00+00:00           36012                      0.0   \n",
       "2014-01-01 03:00:00+00:00           36012                      0.0   \n",
       "2014-01-01 04:00:00+00:00           36012                      0.0   \n",
       "...                                   ...                      ...   \n",
       "2016-12-31 19:00:00+00:00           40634                      0.0   \n",
       "2016-12-31 20:00:00+00:00           40634                      0.0   \n",
       "2016-12-31 21:00:00+00:00           40634                      0.0   \n",
       "2016-12-31 22:00:00+00:00           40634                      0.0   \n",
       "2016-12-31 23:00:00+00:00           40636                      0.0   \n",
       "\n",
       "                           wind_capacity  wind_generation_actual  \\\n",
       "2014-01-01 00:00:00+00:00          32425                  8086.0   \n",
       "2014-01-01 01:00:00+00:00          32425                  8803.0   \n",
       "2014-01-01 02:00:00+00:00          32425                  8970.0   \n",
       "2014-01-01 03:00:00+00:00          32425                  8510.0   \n",
       "2014-01-01 04:00:00+00:00          32425                  8360.0   \n",
       "...                                  ...                     ...   \n",
       "2016-12-31 19:00:00+00:00          49021                 15303.0   \n",
       "2016-12-31 20:00:00+00:00          49021                 15354.0   \n",
       "2016-12-31 21:00:00+00:00          49021                 14848.0   \n",
       "2016-12-31 22:00:00+00:00          49021                 15056.0   \n",
       "2016-12-31 23:00:00+00:00          49025                 15422.0   \n",
       "\n",
       "                           windspeed_10m  radiation_direct_horizontal  \\\n",
       "2014-01-01 00:00:00+00:00       4.981596                          0.0   \n",
       "2014-01-01 01:00:00+00:00       4.932105                          0.0   \n",
       "2014-01-01 02:00:00+00:00       4.865019                          0.0   \n",
       "2014-01-01 03:00:00+00:00       4.842338                          0.0   \n",
       "2014-01-01 04:00:00+00:00       4.772505                          0.0   \n",
       "...                                  ...                          ...   \n",
       "2016-12-31 19:00:00+00:00       4.212916                          0.0   \n",
       "2016-12-31 20:00:00+00:00       4.287475                          0.0   \n",
       "2016-12-31 21:00:00+00:00       4.296530                          0.0   \n",
       "2016-12-31 22:00:00+00:00       4.419977                          0.0   \n",
       "2016-12-31 23:00:00+00:00       4.461064                          0.0   \n",
       "\n",
       "                           radiation_diffuse_horizontal  precipitation  \\\n",
       "2014-01-01 00:00:00+00:00                           0.0         0.0364   \n",
       "2014-01-01 01:00:00+00:00                           0.0         0.0449   \n",
       "2014-01-01 02:00:00+00:00                           0.0         0.0513   \n",
       "2014-01-01 03:00:00+00:00                           0.0         0.0544   \n",
       "2014-01-01 04:00:00+00:00                           0.0         0.0512   \n",
       "...                                                 ...            ...   \n",
       "2016-12-31 19:00:00+00:00                           0.0         0.0098   \n",
       "2016-12-31 20:00:00+00:00                           0.0         0.0099   \n",
       "2016-12-31 21:00:00+00:00                           0.0         0.0093   \n",
       "2016-12-31 22:00:00+00:00                           0.0         0.0093   \n",
       "2016-12-31 23:00:00+00:00                           0.0         0.0103   \n",
       "\n",
       "                           temperature  irradiance_surface  irradiance_toa  \\\n",
       "2014-01-01 00:00:00+00:00       -1.146                 0.0             0.0   \n",
       "2014-01-01 01:00:00+00:00       -1.104                 0.0             0.0   \n",
       "2014-01-01 02:00:00+00:00       -1.059                 0.0             0.0   \n",
       "2014-01-01 03:00:00+00:00       -0.926                 0.0             0.0   \n",
       "2014-01-01 04:00:00+00:00       -0.746                 0.0             0.0   \n",
       "...                                ...                 ...             ...   \n",
       "2016-12-31 19:00:00+00:00       -1.970                 0.0             0.0   \n",
       "2016-12-31 20:00:00+00:00       -2.130                 0.0             0.0   \n",
       "2016-12-31 21:00:00+00:00       -2.293                 0.0             0.0   \n",
       "2016-12-31 22:00:00+00:00       -2.443                 0.0             0.0   \n",
       "2016-12-31 23:00:00+00:00       -2.624                 0.0             0.0   \n",
       "\n",
       "                           snowfall  snow_mass  cloud_cover  air_density  \n",
       "2014-01-01 00:00:00+00:00    0.0056     0.2378       0.9562       1.2539  \n",
       "2014-01-01 01:00:00+00:00    0.0074     0.2428       0.9672       1.2535  \n",
       "2014-01-01 02:00:00+00:00    0.0129     0.2521       0.9733       1.2530  \n",
       "2014-01-01 03:00:00+00:00    0.0140     0.2642       0.9651       1.2523  \n",
       "2014-01-01 04:00:00+00:00    0.0144     0.2764       0.9370       1.2516  \n",
       "...                             ...        ...          ...          ...  \n",
       "2016-12-31 19:00:00+00:00    0.0017     0.0931       0.5102       1.2751  \n",
       "2016-12-31 20:00:00+00:00    0.0020     0.0944       0.5235       1.2756  \n",
       "2016-12-31 21:00:00+00:00    0.0020     0.0959       0.5248       1.2759  \n",
       "2016-12-31 22:00:00+00:00    0.0021     0.0973       0.5319       1.2760  \n",
       "2016-12-31 23:00:00+00:00    0.0023     0.0988       0.5089       1.2758  \n",
       "\n",
       "[26287 rows x 15 columns]"
      ]
     },
     "execution_count": 45,
     "metadata": {},
     "output_type": "execute_result"
    }
   ],
   "source": [
    "combined = pd.read_csv(\"./data/combined.csv\",\n",
    "                        parse_dates=[0], index_col=0)\n",
    "combined"
   ]
  },
  {
   "cell_type": "markdown",
   "metadata": {},
   "source": [
    "# Prediction of solar power generation based on weather data"
   ]
  },
  {
   "cell_type": "code",
   "execution_count": 46,
   "metadata": {},
   "outputs": [
    {
     "data": {
      "text/html": [
       "<div>\n",
       "<style scoped>\n",
       "    .dataframe tbody tr th:only-of-type {\n",
       "        vertical-align: middle;\n",
       "    }\n",
       "\n",
       "    .dataframe tbody tr th {\n",
       "        vertical-align: top;\n",
       "    }\n",
       "\n",
       "    .dataframe thead th {\n",
       "        text-align: right;\n",
       "    }\n",
       "</style>\n",
       "<table border=\"1\" class=\"dataframe\">\n",
       "  <thead>\n",
       "    <tr style=\"text-align: right;\">\n",
       "      <th></th>\n",
       "      <th>solar_generation_actual</th>\n",
       "      <th>solar_capacity</th>\n",
       "      <th>windspeed_10m</th>\n",
       "      <th>radiation_direct_horizontal</th>\n",
       "      <th>radiation_diffuse_horizontal</th>\n",
       "      <th>irradiance_surface</th>\n",
       "      <th>irradiance_toa</th>\n",
       "      <th>precipitation</th>\n",
       "      <th>snowfall</th>\n",
       "      <th>cloud_cover</th>\n",
       "      <th>air_density</th>\n",
       "    </tr>\n",
       "  </thead>\n",
       "  <tbody>\n",
       "    <tr>\n",
       "      <th>2014-01-01 00:00:00+00:00</th>\n",
       "      <td>0.0</td>\n",
       "      <td>36012</td>\n",
       "      <td>4.981596</td>\n",
       "      <td>0.0</td>\n",
       "      <td>0.0</td>\n",
       "      <td>0.0</td>\n",
       "      <td>0.0</td>\n",
       "      <td>0.0364</td>\n",
       "      <td>0.0056</td>\n",
       "      <td>0.9562</td>\n",
       "      <td>1.2539</td>\n",
       "    </tr>\n",
       "    <tr>\n",
       "      <th>2014-01-01 01:00:00+00:00</th>\n",
       "      <td>0.0</td>\n",
       "      <td>36012</td>\n",
       "      <td>4.932105</td>\n",
       "      <td>0.0</td>\n",
       "      <td>0.0</td>\n",
       "      <td>0.0</td>\n",
       "      <td>0.0</td>\n",
       "      <td>0.0449</td>\n",
       "      <td>0.0074</td>\n",
       "      <td>0.9672</td>\n",
       "      <td>1.2535</td>\n",
       "    </tr>\n",
       "    <tr>\n",
       "      <th>2014-01-01 02:00:00+00:00</th>\n",
       "      <td>0.0</td>\n",
       "      <td>36012</td>\n",
       "      <td>4.865019</td>\n",
       "      <td>0.0</td>\n",
       "      <td>0.0</td>\n",
       "      <td>0.0</td>\n",
       "      <td>0.0</td>\n",
       "      <td>0.0513</td>\n",
       "      <td>0.0129</td>\n",
       "      <td>0.9733</td>\n",
       "      <td>1.2530</td>\n",
       "    </tr>\n",
       "    <tr>\n",
       "      <th>2014-01-01 03:00:00+00:00</th>\n",
       "      <td>0.0</td>\n",
       "      <td>36012</td>\n",
       "      <td>4.842338</td>\n",
       "      <td>0.0</td>\n",
       "      <td>0.0</td>\n",
       "      <td>0.0</td>\n",
       "      <td>0.0</td>\n",
       "      <td>0.0544</td>\n",
       "      <td>0.0140</td>\n",
       "      <td>0.9651</td>\n",
       "      <td>1.2523</td>\n",
       "    </tr>\n",
       "    <tr>\n",
       "      <th>2014-01-01 04:00:00+00:00</th>\n",
       "      <td>0.0</td>\n",
       "      <td>36012</td>\n",
       "      <td>4.772505</td>\n",
       "      <td>0.0</td>\n",
       "      <td>0.0</td>\n",
       "      <td>0.0</td>\n",
       "      <td>0.0</td>\n",
       "      <td>0.0512</td>\n",
       "      <td>0.0144</td>\n",
       "      <td>0.9370</td>\n",
       "      <td>1.2516</td>\n",
       "    </tr>\n",
       "    <tr>\n",
       "      <th>...</th>\n",
       "      <td>...</td>\n",
       "      <td>...</td>\n",
       "      <td>...</td>\n",
       "      <td>...</td>\n",
       "      <td>...</td>\n",
       "      <td>...</td>\n",
       "      <td>...</td>\n",
       "      <td>...</td>\n",
       "      <td>...</td>\n",
       "      <td>...</td>\n",
       "      <td>...</td>\n",
       "    </tr>\n",
       "    <tr>\n",
       "      <th>2016-12-31 19:00:00+00:00</th>\n",
       "      <td>0.0</td>\n",
       "      <td>40634</td>\n",
       "      <td>4.212916</td>\n",
       "      <td>0.0</td>\n",
       "      <td>0.0</td>\n",
       "      <td>0.0</td>\n",
       "      <td>0.0</td>\n",
       "      <td>0.0098</td>\n",
       "      <td>0.0017</td>\n",
       "      <td>0.5102</td>\n",
       "      <td>1.2751</td>\n",
       "    </tr>\n",
       "    <tr>\n",
       "      <th>2016-12-31 20:00:00+00:00</th>\n",
       "      <td>0.0</td>\n",
       "      <td>40634</td>\n",
       "      <td>4.287475</td>\n",
       "      <td>0.0</td>\n",
       "      <td>0.0</td>\n",
       "      <td>0.0</td>\n",
       "      <td>0.0</td>\n",
       "      <td>0.0099</td>\n",
       "      <td>0.0020</td>\n",
       "      <td>0.5235</td>\n",
       "      <td>1.2756</td>\n",
       "    </tr>\n",
       "    <tr>\n",
       "      <th>2016-12-31 21:00:00+00:00</th>\n",
       "      <td>0.0</td>\n",
       "      <td>40634</td>\n",
       "      <td>4.296530</td>\n",
       "      <td>0.0</td>\n",
       "      <td>0.0</td>\n",
       "      <td>0.0</td>\n",
       "      <td>0.0</td>\n",
       "      <td>0.0093</td>\n",
       "      <td>0.0020</td>\n",
       "      <td>0.5248</td>\n",
       "      <td>1.2759</td>\n",
       "    </tr>\n",
       "    <tr>\n",
       "      <th>2016-12-31 22:00:00+00:00</th>\n",
       "      <td>0.0</td>\n",
       "      <td>40634</td>\n",
       "      <td>4.419977</td>\n",
       "      <td>0.0</td>\n",
       "      <td>0.0</td>\n",
       "      <td>0.0</td>\n",
       "      <td>0.0</td>\n",
       "      <td>0.0093</td>\n",
       "      <td>0.0021</td>\n",
       "      <td>0.5319</td>\n",
       "      <td>1.2760</td>\n",
       "    </tr>\n",
       "    <tr>\n",
       "      <th>2016-12-31 23:00:00+00:00</th>\n",
       "      <td>0.0</td>\n",
       "      <td>40636</td>\n",
       "      <td>4.461064</td>\n",
       "      <td>0.0</td>\n",
       "      <td>0.0</td>\n",
       "      <td>0.0</td>\n",
       "      <td>0.0</td>\n",
       "      <td>0.0103</td>\n",
       "      <td>0.0023</td>\n",
       "      <td>0.5089</td>\n",
       "      <td>1.2758</td>\n",
       "    </tr>\n",
       "  </tbody>\n",
       "</table>\n",
       "<p>26287 rows × 11 columns</p>\n",
       "</div>"
      ],
      "text/plain": [
       "                           solar_generation_actual  solar_capacity  \\\n",
       "2014-01-01 00:00:00+00:00                      0.0           36012   \n",
       "2014-01-01 01:00:00+00:00                      0.0           36012   \n",
       "2014-01-01 02:00:00+00:00                      0.0           36012   \n",
       "2014-01-01 03:00:00+00:00                      0.0           36012   \n",
       "2014-01-01 04:00:00+00:00                      0.0           36012   \n",
       "...                                            ...             ...   \n",
       "2016-12-31 19:00:00+00:00                      0.0           40634   \n",
       "2016-12-31 20:00:00+00:00                      0.0           40634   \n",
       "2016-12-31 21:00:00+00:00                      0.0           40634   \n",
       "2016-12-31 22:00:00+00:00                      0.0           40634   \n",
       "2016-12-31 23:00:00+00:00                      0.0           40636   \n",
       "\n",
       "                           windspeed_10m  radiation_direct_horizontal  \\\n",
       "2014-01-01 00:00:00+00:00       4.981596                          0.0   \n",
       "2014-01-01 01:00:00+00:00       4.932105                          0.0   \n",
       "2014-01-01 02:00:00+00:00       4.865019                          0.0   \n",
       "2014-01-01 03:00:00+00:00       4.842338                          0.0   \n",
       "2014-01-01 04:00:00+00:00       4.772505                          0.0   \n",
       "...                                  ...                          ...   \n",
       "2016-12-31 19:00:00+00:00       4.212916                          0.0   \n",
       "2016-12-31 20:00:00+00:00       4.287475                          0.0   \n",
       "2016-12-31 21:00:00+00:00       4.296530                          0.0   \n",
       "2016-12-31 22:00:00+00:00       4.419977                          0.0   \n",
       "2016-12-31 23:00:00+00:00       4.461064                          0.0   \n",
       "\n",
       "                           radiation_diffuse_horizontal  irradiance_surface  \\\n",
       "2014-01-01 00:00:00+00:00                           0.0                 0.0   \n",
       "2014-01-01 01:00:00+00:00                           0.0                 0.0   \n",
       "2014-01-01 02:00:00+00:00                           0.0                 0.0   \n",
       "2014-01-01 03:00:00+00:00                           0.0                 0.0   \n",
       "2014-01-01 04:00:00+00:00                           0.0                 0.0   \n",
       "...                                                 ...                 ...   \n",
       "2016-12-31 19:00:00+00:00                           0.0                 0.0   \n",
       "2016-12-31 20:00:00+00:00                           0.0                 0.0   \n",
       "2016-12-31 21:00:00+00:00                           0.0                 0.0   \n",
       "2016-12-31 22:00:00+00:00                           0.0                 0.0   \n",
       "2016-12-31 23:00:00+00:00                           0.0                 0.0   \n",
       "\n",
       "                           irradiance_toa  precipitation  snowfall  \\\n",
       "2014-01-01 00:00:00+00:00             0.0         0.0364    0.0056   \n",
       "2014-01-01 01:00:00+00:00             0.0         0.0449    0.0074   \n",
       "2014-01-01 02:00:00+00:00             0.0         0.0513    0.0129   \n",
       "2014-01-01 03:00:00+00:00             0.0         0.0544    0.0140   \n",
       "2014-01-01 04:00:00+00:00             0.0         0.0512    0.0144   \n",
       "...                                   ...            ...       ...   \n",
       "2016-12-31 19:00:00+00:00             0.0         0.0098    0.0017   \n",
       "2016-12-31 20:00:00+00:00             0.0         0.0099    0.0020   \n",
       "2016-12-31 21:00:00+00:00             0.0         0.0093    0.0020   \n",
       "2016-12-31 22:00:00+00:00             0.0         0.0093    0.0021   \n",
       "2016-12-31 23:00:00+00:00             0.0         0.0103    0.0023   \n",
       "\n",
       "                           cloud_cover  air_density  \n",
       "2014-01-01 00:00:00+00:00       0.9562       1.2539  \n",
       "2014-01-01 01:00:00+00:00       0.9672       1.2535  \n",
       "2014-01-01 02:00:00+00:00       0.9733       1.2530  \n",
       "2014-01-01 03:00:00+00:00       0.9651       1.2523  \n",
       "2014-01-01 04:00:00+00:00       0.9370       1.2516  \n",
       "...                                ...          ...  \n",
       "2016-12-31 19:00:00+00:00       0.5102       1.2751  \n",
       "2016-12-31 20:00:00+00:00       0.5235       1.2756  \n",
       "2016-12-31 21:00:00+00:00       0.5248       1.2759  \n",
       "2016-12-31 22:00:00+00:00       0.5319       1.2760  \n",
       "2016-12-31 23:00:00+00:00       0.5089       1.2758  \n",
       "\n",
       "[26287 rows x 11 columns]"
      ]
     },
     "execution_count": 46,
     "metadata": {},
     "output_type": "execute_result"
    }
   ],
   "source": [
    "solar = combined[['solar_generation_actual', 'solar_capacity', 'windspeed_10m', 'radiation_direct_horizontal', 'radiation_diffuse_horizontal', 'irradiance_surface', 'irradiance_toa', 'precipitation', 'snowfall', 'cloud_cover', 'air_density']]\n",
    "X_solar = solar[['solar_capacity','windspeed_10m', 'radiation_direct_horizontal', 'radiation_diffuse_horizontal', 'irradiance_surface', 'irradiance_toa', 'precipitation', 'snowfall', 'cloud_cover', 'air_density']]\n",
    "y_solar = solar['solar_generation_actual']\n",
    "solar"
   ]
  },
  {
   "cell_type": "markdown",
   "metadata": {},
   "source": [
    "# Split the dataset into training and test datasets"
   ]
  },
  {
   "cell_type": "code",
   "execution_count": 47,
   "metadata": {},
   "outputs": [],
   "source": [
    "# We will train the machine learning algorithms on the data for the years 2014 and 2015\n",
    "X_train_master = X_solar.loc[(X_solar.index >= \"2014-01-01 00:00:00\") & (X_solar.index <= \"2015-12-31 23:00:00\")]\n",
    "y_train = y_solar.loc[(X_solar.index >= \"2014-01-01 00:00:00\") & (X_solar.index <= \"2015-12-31 23:00:00\")]\n",
    "\n",
    "# We will test the models on the data for the year 2016\n",
    "X_test_master = X_solar.loc[(X_solar.index >= \"2016-01-01 00:00:00\") & (X_solar.index <= \"2016-12-31 23:00:00\")]\n",
    "y_test = y_solar.loc[(X_solar.index >= \"2016-01-01 00:00:00\") & (X_solar.index <= \"2016-12-31 23:00:00\")]"
   ]
  },
  {
   "cell_type": "markdown",
   "metadata": {},
   "source": [
    "# 1. Predicting solar power generation using the LinearRegression model"
   ]
  },
  {
   "cell_type": "markdown",
   "metadata": {},
   "source": [
    "## 1.1 Training and validation of the LinearRegression model for all features (n=10)\n",
    "\n",
    "### Cross-validation\n",
    "In order to evaluate the performance of the algorithm, we divide the data using a procedure called cross-validation (cv for short). For the k-fold cv, the dataset is split into k smaller sets or ‘folds’, the model is trained in k-1 of those folds, and the resulting model is validated on the remaining part of the data. The performance measure provided by the cv is then the average of the performance measure computed in each experiment. \n",
    "In the code below, we use cross_val_score from sklearn.model_selection, with number of folds cv=5\n",
    "\n",
    "The performance measure that LinearRegression gives by default is the coefficient of determination R² of the prediction. It measures how well the predictions approximate the true values."
   ]
  },
  {
   "cell_type": "code",
   "execution_count": 48,
   "metadata": {},
   "outputs": [],
   "source": [
    "selected_features = ['solar_capacity',\n",
    "                     'windspeed_10m',\n",
    "                     'radiation_direct_horizontal',\n",
    "                     'radiation_diffuse_horizontal',\n",
    "                     'irradiance_surface',\n",
    "                     'irradiance_toa',\n",
    "                     'precipitation',\n",
    "                     'snowfall',\n",
    "                     'cloud_cover',\n",
    "                     'air_density']\n",
    "\n",
    "X_train = X_train_master[selected_features]\n",
    "X_test = X_test_master[selected_features]"
   ]
  },
  {
   "cell_type": "code",
   "execution_count": 49,
   "metadata": {},
   "outputs": [
    {
     "name": "stdout",
     "output_type": "stream",
     "text": [
      "The average score for the LinearRegression model (training) is: 0.928\n",
      "The R2 score of the LinearRegression model (test) is: 0.955\n"
     ]
    }
   ],
   "source": [
    "# Frist, we train the model for the prediction for solar power generation based on weather data.\n",
    "lr = LinearRegression()\n",
    "scores = cross_val_score(lr, X_train, y_train, cv=5)\n",
    "print(f\"The average score for the LinearRegression model (training) is: %0.3f\" % np.mean(scores))\n",
    "\n",
    "# Second, we validate the model for the data for the year 2016.\n",
    "lr.fit(X_train, y_train)\n",
    "predictions_lr = lr.predict(X_test)\n",
    "r2 = r2_score(y_test, predictions_lr)\n",
    "print(f\"The R2 score of the LinearRegression model (test) is: %0.3f\" % r2)"
   ]
  },
  {
   "cell_type": "code",
   "execution_count": 50,
   "metadata": {},
   "outputs": [
    {
     "data": {
      "text/html": [
       "<table class=\"simpletable\">\n",
       "<caption>OLS Regression Results</caption>\n",
       "<tr>\n",
       "  <th>Dep. Variable:</th>    <td>solar_generation_actual</td> <th>  R-squared (uncentered):</th>       <td>   0.964</td>  \n",
       "</tr>\n",
       "<tr>\n",
       "  <th>Model:</th>                      <td>OLS</td>           <th>  Adj. R-squared (uncentered):</th>  <td>   0.964</td>  \n",
       "</tr>\n",
       "<tr>\n",
       "  <th>Method:</th>                <td>Least Squares</td>      <th>  F-statistic:       </th>           <td>4.683e+04</td> \n",
       "</tr>\n",
       "<tr>\n",
       "  <th>Date:</th>                <td>Thu, 21 May 2020</td>     <th>  Prob (F-statistic):</th>            <td>  0.00</td>   \n",
       "</tr>\n",
       "<tr>\n",
       "  <th>Time:</th>                    <td>01:01:14</td>         <th>  Log-Likelihood:    </th>          <td>-1.5074e+05</td>\n",
       "</tr>\n",
       "<tr>\n",
       "  <th>No. Observations:</th>         <td> 17503</td>          <th>  AIC:               </th>           <td>3.015e+05</td> \n",
       "</tr>\n",
       "<tr>\n",
       "  <th>Df Residuals:</th>             <td> 17493</td>          <th>  BIC:               </th>           <td>3.016e+05</td> \n",
       "</tr>\n",
       "<tr>\n",
       "  <th>Df Model:</th>                 <td>    10</td>          <th>                     </th>               <td> </td>     \n",
       "</tr>\n",
       "<tr>\n",
       "  <th>Covariance Type:</th>         <td>nonrobust</td>        <th>                     </th>               <td> </td>     \n",
       "</tr>\n",
       "</table>\n",
       "<table class=\"simpletable\">\n",
       "<tr>\n",
       "                <td></td>                  <th>coef</th>     <th>std err</th>      <th>t</th>      <th>P>|t|</th>  <th>[0.025</th>    <th>0.975]</th>  \n",
       "</tr>\n",
       "<tr>\n",
       "  <th>solar_capacity</th>               <td>    0.0423</td> <td>    0.008</td> <td>    5.093</td> <td> 0.000</td> <td>    0.026</td> <td>    0.059</td>\n",
       "</tr>\n",
       "<tr>\n",
       "  <th>windspeed_10m</th>                <td>   10.4012</td> <td>    5.948</td> <td>    1.749</td> <td> 0.080</td> <td>   -1.258</td> <td>   22.061</td>\n",
       "</tr>\n",
       "<tr>\n",
       "  <th>radiation_direct_horizontal</th>  <td>    1.5164</td> <td>    0.215</td> <td>    7.037</td> <td> 0.000</td> <td>    1.094</td> <td>    1.939</td>\n",
       "</tr>\n",
       "<tr>\n",
       "  <th>radiation_diffuse_horizontal</th> <td>   -0.8386</td> <td>    0.348</td> <td>   -2.408</td> <td> 0.016</td> <td>   -1.521</td> <td>   -0.156</td>\n",
       "</tr>\n",
       "<tr>\n",
       "  <th>irradiance_surface</th>           <td>   26.5831</td> <td>    0.420</td> <td>   63.219</td> <td> 0.000</td> <td>   25.759</td> <td>   27.407</td>\n",
       "</tr>\n",
       "<tr>\n",
       "  <th>irradiance_toa</th>               <td>   -0.7311</td> <td>    0.251</td> <td>   -2.916</td> <td> 0.004</td> <td>   -1.223</td> <td>   -0.240</td>\n",
       "</tr>\n",
       "<tr>\n",
       "  <th>precipitation</th>                <td>-1613.9242</td> <td>   95.620</td> <td>  -16.879</td> <td> 0.000</td> <td>-1801.348</td> <td>-1426.500</td>\n",
       "</tr>\n",
       "<tr>\n",
       "  <th>snowfall</th>                     <td> -451.1907</td> <td>  461.414</td> <td>   -0.978</td> <td> 0.328</td> <td>-1355.609</td> <td>  453.228</td>\n",
       "</tr>\n",
       "<tr>\n",
       "  <th>cloud_cover</th>                  <td>  876.9187</td> <td>   50.775</td> <td>   17.271</td> <td> 0.000</td> <td>  777.395</td> <td>  976.442</td>\n",
       "</tr>\n",
       "<tr>\n",
       "  <th>air_density</th>                  <td>-1669.4630</td> <td>  261.915</td> <td>   -6.374</td> <td> 0.000</td> <td>-2182.842</td> <td>-1156.084</td>\n",
       "</tr>\n",
       "</table>\n",
       "<table class=\"simpletable\">\n",
       "<tr>\n",
       "  <th>Omnibus:</th>       <td>2831.028</td> <th>  Durbin-Watson:     </th> <td>   0.132</td> \n",
       "</tr>\n",
       "<tr>\n",
       "  <th>Prob(Omnibus):</th>  <td> 0.000</td>  <th>  Jarque-Bera (JB):  </th> <td>38321.286</td>\n",
       "</tr>\n",
       "<tr>\n",
       "  <th>Skew:</th>           <td> 0.347</td>  <th>  Prob(JB):          </th> <td>    0.00</td> \n",
       "</tr>\n",
       "<tr>\n",
       "  <th>Kurtosis:</th>       <td>10.215</td>  <th>  Cond. No.          </th> <td>1.75e+06</td> \n",
       "</tr>\n",
       "</table><br/><br/>Warnings:<br/>[1] Standard Errors assume that the covariance matrix of the errors is correctly specified.<br/>[2] The condition number is large, 1.75e+06. This might indicate that there are<br/>strong multicollinearity or other numerical problems."
      ],
      "text/plain": [
       "<class 'statsmodels.iolib.summary.Summary'>\n",
       "\"\"\"\n",
       "                                   OLS Regression Results                                   \n",
       "============================================================================================\n",
       "Dep. Variable:     solar_generation_actual   R-squared (uncentered):                   0.964\n",
       "Model:                                 OLS   Adj. R-squared (uncentered):              0.964\n",
       "Method:                      Least Squares   F-statistic:                          4.683e+04\n",
       "Date:                     Thu, 21 May 2020   Prob (F-statistic):                        0.00\n",
       "Time:                             01:01:14   Log-Likelihood:                     -1.5074e+05\n",
       "No. Observations:                    17503   AIC:                                  3.015e+05\n",
       "Df Residuals:                        17493   BIC:                                  3.016e+05\n",
       "Df Model:                               10                                                  \n",
       "Covariance Type:                 nonrobust                                                  \n",
       "================================================================================================\n",
       "                                   coef    std err          t      P>|t|      [0.025      0.975]\n",
       "------------------------------------------------------------------------------------------------\n",
       "solar_capacity                   0.0423      0.008      5.093      0.000       0.026       0.059\n",
       "windspeed_10m                   10.4012      5.948      1.749      0.080      -1.258      22.061\n",
       "radiation_direct_horizontal      1.5164      0.215      7.037      0.000       1.094       1.939\n",
       "radiation_diffuse_horizontal    -0.8386      0.348     -2.408      0.016      -1.521      -0.156\n",
       "irradiance_surface              26.5831      0.420     63.219      0.000      25.759      27.407\n",
       "irradiance_toa                  -0.7311      0.251     -2.916      0.004      -1.223      -0.240\n",
       "precipitation                -1613.9242     95.620    -16.879      0.000   -1801.348   -1426.500\n",
       "snowfall                      -451.1907    461.414     -0.978      0.328   -1355.609     453.228\n",
       "cloud_cover                    876.9187     50.775     17.271      0.000     777.395     976.442\n",
       "air_density                  -1669.4630    261.915     -6.374      0.000   -2182.842   -1156.084\n",
       "==============================================================================\n",
       "Omnibus:                     2831.028   Durbin-Watson:                   0.132\n",
       "Prob(Omnibus):                  0.000   Jarque-Bera (JB):            38321.286\n",
       "Skew:                           0.347   Prob(JB):                         0.00\n",
       "Kurtosis:                      10.215   Cond. No.                     1.75e+06\n",
       "==============================================================================\n",
       "\n",
       "Warnings:\n",
       "[1] Standard Errors assume that the covariance matrix of the errors is correctly specified.\n",
       "[2] The condition number is large, 1.75e+06. This might indicate that there are\n",
       "strong multicollinearity or other numerical problems.\n",
       "\"\"\""
      ]
     },
     "execution_count": 50,
     "metadata": {},
     "output_type": "execute_result"
    }
   ],
   "source": [
    "# Further information on the LinearRegression model\n",
    "OLS(y_train, X_train).fit().summary()"
   ]
  },
  {
   "cell_type": "code",
   "execution_count": 51,
   "metadata": {},
   "outputs": [
    {
     "data": {
      "image/png": "[encoded data removed]",
      "text/plain": [
       "<Figure size 864x576 with 2 Axes>"
      ]
     },
     "metadata": {
      "needs_background": "light"
     },
     "output_type": "display_data"
    }
   ],
   "source": [
    "# Let's check for multicollinearity amongst the different features\n",
    "from rfpimp import plot_corr_heatmap\n",
    "viz = plot_corr_heatmap(X_train, figsize=(12,8))\n",
    "viz.view()"
   ]
  },
  {
   "cell_type": "markdown",
   "metadata": {},
   "source": [
    "- It seems that there is a strong multicollinearity between the different features for solar radiation/irradiance.\n",
    "- We choose to only use `irradiance_surface` to feature solar radiation/irrandiance and to drop the other related features (see below why).\n",
    "- Thus we decide to re-train and validate the models by limiting the features to: \n",
    "#### `solar_capacity`,`windspeed_10m`, `irradiance_surface`, `precipitation`, `snowfall`, `cloud_cover` and `air_density`\n",
    "#### `irradiance_surface` (only)"
   ]
  },
  {
   "cell_type": "markdown",
   "metadata": {},
   "source": [
    "## 1.2 Training and validation of the LinearRegression model for selected features (n=7)"
   ]
  },
  {
   "cell_type": "code",
   "execution_count": 52,
   "metadata": {},
   "outputs": [],
   "source": [
    "selected_features = ['solar_capacity',\n",
    "                     'windspeed_10m',\n",
    "                     'irradiance_surface',\n",
    "                     'precipitation',\n",
    "                     'snowfall',\n",
    "                     'cloud_cover',\n",
    "                     'air_density']\n",
    "\n",
    "X_train = X_train_master[selected_features]\n",
    "X_test = X_test_master[selected_features]"
   ]
  },
  {
   "cell_type": "code",
   "execution_count": 53,
   "metadata": {},
   "outputs": [
    {
     "name": "stdout",
     "output_type": "stream",
     "text": [
      "The average score for the LinearRegression model (training) is: 0.927\n",
      "The R2 score of the LinearRegression model (test) is: 0.954\n"
     ]
    }
   ],
   "source": [
    "# Frist, we train the model for the prediction for solar power generation based on weather data.\n",
    "lr = LinearRegression()\n",
    "scores = cross_val_score(lr, X_train, y_train, cv=5)\n",
    "print(f\"The average score for the LinearRegression model (training) is: %0.3f\" % np.mean(scores))\n",
    "\n",
    "# Second, we validate the model for the data for the year 2016.\n",
    "lr.fit(X_train, y_train)\n",
    "predictions_lr = lr.predict(X_test)\n",
    "r2 = r2_score(y_test, predictions_lr)\n",
    "print(f\"The R2 score of the LinearRegression model (test) is: %0.3f\" % r2)"
   ]
  },
  {
   "cell_type": "markdown",
   "metadata": {},
   "source": [
    "#### While dropping 3 features for solar radiation/irradiance, the goodness of fit of this model is no signicantly different than for the model in 1.1 with 10 features."
   ]
  },
  {
   "cell_type": "code",
   "execution_count": 54,
   "metadata": {},
   "outputs": [
    {
     "data": {
      "text/html": [
       "<table class=\"simpletable\">\n",
       "<caption>OLS Regression Results</caption>\n",
       "<tr>\n",
       "  <th>Dep. Variable:</th>    <td>solar_generation_actual</td> <th>  R-squared (uncentered):</th>       <td>   0.963</td>  \n",
       "</tr>\n",
       "<tr>\n",
       "  <th>Model:</th>                      <td>OLS</td>           <th>  Adj. R-squared (uncentered):</th>  <td>   0.963</td>  \n",
       "</tr>\n",
       "<tr>\n",
       "  <th>Method:</th>                <td>Least Squares</td>      <th>  F-statistic:       </th>           <td>6.577e+04</td> \n",
       "</tr>\n",
       "<tr>\n",
       "  <th>Date:</th>                <td>Thu, 21 May 2020</td>     <th>  Prob (F-statistic):</th>            <td>  0.00</td>   \n",
       "</tr>\n",
       "<tr>\n",
       "  <th>Time:</th>                    <td>01:01:27</td>         <th>  Log-Likelihood:    </th>          <td>-1.5088e+05</td>\n",
       "</tr>\n",
       "<tr>\n",
       "  <th>No. Observations:</th>         <td> 17503</td>          <th>  AIC:               </th>           <td>3.018e+05</td> \n",
       "</tr>\n",
       "<tr>\n",
       "  <th>Df Residuals:</th>             <td> 17496</td>          <th>  BIC:               </th>           <td>3.018e+05</td> \n",
       "</tr>\n",
       "<tr>\n",
       "  <th>Df Model:</th>                 <td>     7</td>          <th>                     </th>               <td> </td>     \n",
       "</tr>\n",
       "<tr>\n",
       "  <th>Covariance Type:</th>         <td>nonrobust</td>        <th>                     </th>               <td> </td>     \n",
       "</tr>\n",
       "</table>\n",
       "<table class=\"simpletable\">\n",
       "<tr>\n",
       "           <td></td>             <th>coef</th>     <th>std err</th>      <th>t</th>      <th>P>|t|</th>  <th>[0.025</th>    <th>0.975]</th>  \n",
       "</tr>\n",
       "<tr>\n",
       "  <th>solar_capacity</th>     <td>    0.0453</td> <td>    0.008</td> <td>    5.485</td> <td> 0.000</td> <td>    0.029</td> <td>    0.061</td>\n",
       "</tr>\n",
       "<tr>\n",
       "  <th>windspeed_10m</th>      <td>    6.4810</td> <td>    5.946</td> <td>    1.090</td> <td> 0.276</td> <td>   -5.174</td> <td>   18.136</td>\n",
       "</tr>\n",
       "<tr>\n",
       "  <th>irradiance_surface</th> <td>   26.0801</td> <td>    0.051</td> <td>  514.031</td> <td> 0.000</td> <td>   25.981</td> <td>   26.180</td>\n",
       "</tr>\n",
       "<tr>\n",
       "  <th>precipitation</th>      <td>-1959.3321</td> <td>   92.372</td> <td>  -21.211</td> <td> 0.000</td> <td>-2140.391</td> <td>-1778.273</td>\n",
       "</tr>\n",
       "<tr>\n",
       "  <th>snowfall</th>           <td>  290.2266</td> <td>  463.142</td> <td>    0.627</td> <td> 0.531</td> <td> -617.577</td> <td> 1198.030</td>\n",
       "</tr>\n",
       "<tr>\n",
       "  <th>cloud_cover</th>        <td>  649.4022</td> <td>   49.045</td> <td>   13.241</td> <td> 0.000</td> <td>  553.269</td> <td>  745.536</td>\n",
       "</tr>\n",
       "<tr>\n",
       "  <th>air_density</th>        <td>-1664.3491</td> <td>  260.130</td> <td>   -6.398</td> <td> 0.000</td> <td>-2174.229</td> <td>-1154.469</td>\n",
       "</tr>\n",
       "</table>\n",
       "<table class=\"simpletable\">\n",
       "<tr>\n",
       "  <th>Omnibus:</th>       <td>2806.682</td> <th>  Durbin-Watson:     </th> <td>   0.133</td> \n",
       "</tr>\n",
       "<tr>\n",
       "  <th>Prob(Omnibus):</th>  <td> 0.000</td>  <th>  Jarque-Bera (JB):  </th> <td>35913.975</td>\n",
       "</tr>\n",
       "<tr>\n",
       "  <th>Skew:</th>           <td> 0.364</td>  <th>  Prob(JB):          </th> <td>    0.00</td> \n",
       "</tr>\n",
       "<tr>\n",
       "  <th>Kurtosis:</th>       <td> 9.980</td>  <th>  Cond. No.          </th> <td>1.74e+06</td> \n",
       "</tr>\n",
       "</table><br/><br/>Warnings:<br/>[1] Standard Errors assume that the covariance matrix of the errors is correctly specified.<br/>[2] The condition number is large, 1.74e+06. This might indicate that there are<br/>strong multicollinearity or other numerical problems."
      ],
      "text/plain": [
       "<class 'statsmodels.iolib.summary.Summary'>\n",
       "\"\"\"\n",
       "                                   OLS Regression Results                                   \n",
       "============================================================================================\n",
       "Dep. Variable:     solar_generation_actual   R-squared (uncentered):                   0.963\n",
       "Model:                                 OLS   Adj. R-squared (uncentered):              0.963\n",
       "Method:                      Least Squares   F-statistic:                          6.577e+04\n",
       "Date:                     Thu, 21 May 2020   Prob (F-statistic):                        0.00\n",
       "Time:                             01:01:27   Log-Likelihood:                     -1.5088e+05\n",
       "No. Observations:                    17503   AIC:                                  3.018e+05\n",
       "Df Residuals:                        17496   BIC:                                  3.018e+05\n",
       "Df Model:                                7                                                  \n",
       "Covariance Type:                 nonrobust                                                  \n",
       "======================================================================================\n",
       "                         coef    std err          t      P>|t|      [0.025      0.975]\n",
       "--------------------------------------------------------------------------------------\n",
       "solar_capacity         0.0453      0.008      5.485      0.000       0.029       0.061\n",
       "windspeed_10m          6.4810      5.946      1.090      0.276      -5.174      18.136\n",
       "irradiance_surface    26.0801      0.051    514.031      0.000      25.981      26.180\n",
       "precipitation      -1959.3321     92.372    -21.211      0.000   -2140.391   -1778.273\n",
       "snowfall             290.2266    463.142      0.627      0.531    -617.577    1198.030\n",
       "cloud_cover          649.4022     49.045     13.241      0.000     553.269     745.536\n",
       "air_density        -1664.3491    260.130     -6.398      0.000   -2174.229   -1154.469\n",
       "==============================================================================\n",
       "Omnibus:                     2806.682   Durbin-Watson:                   0.133\n",
       "Prob(Omnibus):                  0.000   Jarque-Bera (JB):            35913.975\n",
       "Skew:                           0.364   Prob(JB):                         0.00\n",
       "Kurtosis:                       9.980   Cond. No.                     1.74e+06\n",
       "==============================================================================\n",
       "\n",
       "Warnings:\n",
       "[1] Standard Errors assume that the covariance matrix of the errors is correctly specified.\n",
       "[2] The condition number is large, 1.74e+06. This might indicate that there are\n",
       "strong multicollinearity or other numerical problems.\n",
       "\"\"\""
      ]
     },
     "execution_count": 54,
     "metadata": {},
     "output_type": "execute_result"
    }
   ],
   "source": [
    "# Further information on the LinearRegression model\n",
    "OLS(y_train, X_train).fit().summary()"
   ]
  },
  {
   "cell_type": "markdown",
   "metadata": {},
   "source": [
    "## 1.3 Training and validation of the LinearRegression model for selected features (n=1)"
   ]
  },
  {
   "cell_type": "code",
   "execution_count": 77,
   "metadata": {},
   "outputs": [],
   "source": [
    "selected_features = ['irradiance_surface']\n",
    "\n",
    "X_train = X_train_master[selected_features]\n",
    "X_test = X_test_master[selected_features]"
   ]
  },
  {
   "cell_type": "code",
   "execution_count": 78,
   "metadata": {},
   "outputs": [
    {
     "name": "stdout",
     "output_type": "stream",
     "text": [
      "The average score for the LinearRegression model (training) is: 0.932\n",
      "The R2 score of the LinearRegression model (test) is: 0.953\n"
     ]
    }
   ],
   "source": [
    "# Frist, we train the model for the prediction for solar power generation based on weather data.\n",
    "lr = LinearRegression()\n",
    "scores = cross_val_score(lr, X_train, y_train, cv=5)\n",
    "print(f\"The average score for the LinearRegression model (training) is: %0.3f\" % np.mean(scores))\n",
    "\n",
    "# Second, we validate the model for the data for the year 2016.\n",
    "lr.fit(X_train, y_train)\n",
    "predictions_lr = lr.predict(X_test)\n",
    "r2 = r2_score(y_test, predictions_lr)\n",
    "print(f\"The R2 score of the LinearRegression model (test) is: %0.3f\" % r2)"
   ]
  },
  {
   "cell_type": "code",
   "execution_count": 57,
   "metadata": {},
   "outputs": [
    {
     "data": {
      "text/html": [
       "<table class=\"simpletable\">\n",
       "<caption>OLS Regression Results</caption>\n",
       "<tr>\n",
       "  <th>Dep. Variable:</th>    <td>solar_generation_actual</td> <th>  R-squared (uncentered):</th>       <td>   0.962</td>  \n",
       "</tr>\n",
       "<tr>\n",
       "  <th>Model:</th>                      <td>OLS</td>           <th>  Adj. R-squared (uncentered):</th>  <td>   0.962</td>  \n",
       "</tr>\n",
       "<tr>\n",
       "  <th>Method:</th>                <td>Least Squares</td>      <th>  F-statistic:       </th>           <td>4.464e+05</td> \n",
       "</tr>\n",
       "<tr>\n",
       "  <th>Date:</th>                <td>Thu, 21 May 2020</td>     <th>  Prob (F-statistic):</th>            <td>  0.00</td>   \n",
       "</tr>\n",
       "<tr>\n",
       "  <th>Time:</th>                    <td>01:01:36</td>         <th>  Log-Likelihood:    </th>          <td>-1.5114e+05</td>\n",
       "</tr>\n",
       "<tr>\n",
       "  <th>No. Observations:</th>         <td> 17503</td>          <th>  AIC:               </th>           <td>3.023e+05</td> \n",
       "</tr>\n",
       "<tr>\n",
       "  <th>Df Residuals:</th>             <td> 17502</td>          <th>  BIC:               </th>           <td>3.023e+05</td> \n",
       "</tr>\n",
       "<tr>\n",
       "  <th>Df Model:</th>                 <td>     1</td>          <th>                     </th>               <td> </td>     \n",
       "</tr>\n",
       "<tr>\n",
       "  <th>Covariance Type:</th>         <td>nonrobust</td>        <th>                     </th>               <td> </td>     \n",
       "</tr>\n",
       "</table>\n",
       "<table class=\"simpletable\">\n",
       "<tr>\n",
       "           <td></td>             <th>coef</th>     <th>std err</th>      <th>t</th>      <th>P>|t|</th>  <th>[0.025</th>    <th>0.975]</th>  \n",
       "</tr>\n",
       "<tr>\n",
       "  <th>irradiance_surface</th> <td>   25.9040</td> <td>    0.039</td> <td>  668.118</td> <td> 0.000</td> <td>   25.828</td> <td>   25.980</td>\n",
       "</tr>\n",
       "</table>\n",
       "<table class=\"simpletable\">\n",
       "<tr>\n",
       "  <th>Omnibus:</th>       <td>2795.787</td> <th>  Durbin-Watson:     </th> <td>   0.129</td> \n",
       "</tr>\n",
       "<tr>\n",
       "  <th>Prob(Omnibus):</th>  <td> 0.000</td>  <th>  Jarque-Bera (JB):  </th> <td>35743.409</td>\n",
       "</tr>\n",
       "<tr>\n",
       "  <th>Skew:</th>           <td> 0.360</td>  <th>  Prob(JB):          </th> <td>    0.00</td> \n",
       "</tr>\n",
       "<tr>\n",
       "  <th>Kurtosis:</th>       <td> 9.964</td>  <th>  Cond. No.          </th> <td>    1.00</td> \n",
       "</tr>\n",
       "</table><br/><br/>Warnings:<br/>[1] Standard Errors assume that the covariance matrix of the errors is correctly specified."
      ],
      "text/plain": [
       "<class 'statsmodels.iolib.summary.Summary'>\n",
       "\"\"\"\n",
       "                                   OLS Regression Results                                   \n",
       "============================================================================================\n",
       "Dep. Variable:     solar_generation_actual   R-squared (uncentered):                   0.962\n",
       "Model:                                 OLS   Adj. R-squared (uncentered):              0.962\n",
       "Method:                      Least Squares   F-statistic:                          4.464e+05\n",
       "Date:                     Thu, 21 May 2020   Prob (F-statistic):                        0.00\n",
       "Time:                             01:01:36   Log-Likelihood:                     -1.5114e+05\n",
       "No. Observations:                    17503   AIC:                                  3.023e+05\n",
       "Df Residuals:                        17502   BIC:                                  3.023e+05\n",
       "Df Model:                                1                                                  \n",
       "Covariance Type:                 nonrobust                                                  \n",
       "======================================================================================\n",
       "                         coef    std err          t      P>|t|      [0.025      0.975]\n",
       "--------------------------------------------------------------------------------------\n",
       "irradiance_surface    25.9040      0.039    668.118      0.000      25.828      25.980\n",
       "==============================================================================\n",
       "Omnibus:                     2795.787   Durbin-Watson:                   0.129\n",
       "Prob(Omnibus):                  0.000   Jarque-Bera (JB):            35743.409\n",
       "Skew:                           0.360   Prob(JB):                         0.00\n",
       "Kurtosis:                       9.964   Cond. No.                         1.00\n",
       "==============================================================================\n",
       "\n",
       "Warnings:\n",
       "[1] Standard Errors assume that the covariance matrix of the errors is correctly specified.\n",
       "\"\"\""
      ]
     },
     "execution_count": 57,
     "metadata": {},
     "output_type": "execute_result"
    }
   ],
   "source": [
    "# Further information on the LinearRegression model\n",
    "OLS(y_train, X_train).fit().summary()"
   ]
  },
  {
   "cell_type": "markdown",
   "metadata": {},
   "source": [
    "#### By using only the feature `irradiance_surface`, the LinearRegression model could achieve a satisfying goodness of fit."
   ]
  },
  {
   "cell_type": "markdown",
   "metadata": {},
   "source": [
    "# 2. Predicting solar power generation using the DecisionTreeRegression model"
   ]
  },
  {
   "cell_type": "markdown",
   "metadata": {},
   "source": [
    "## 2.1 Training and validation of the DecisionTreeRegression model for all features (n=10)"
   ]
  },
  {
   "cell_type": "code",
   "execution_count": 58,
   "metadata": {},
   "outputs": [],
   "source": [
    "selected_features = ['solar_capacity',\n",
    "                     'windspeed_10m',\n",
    "                     'radiation_direct_horizontal',\n",
    "                     'radiation_diffuse_horizontal',\n",
    "                     'irradiance_surface',\n",
    "                     'irradiance_toa',\n",
    "                     'precipitation',\n",
    "                     'snowfall',\n",
    "                     'cloud_cover',\n",
    "                     'air_density']\n",
    "\n",
    "X_train = X_train_master[selected_features]\n",
    "X_test = X_test_master[selected_features]"
   ]
  },
  {
   "cell_type": "code",
   "execution_count": 59,
   "metadata": {},
   "outputs": [
    {
     "name": "stdout",
     "output_type": "stream",
     "text": [
      "The average score for the DecisionTreeRegression model (training) is: 0.903\n",
      "The R2 score of the LinearRegression model (test) is: 0.917\n"
     ]
    }
   ],
   "source": [
    "# Frist, we train the model for the prediction for solar power generation based on weather data.\n",
    "dt = DecisionTreeRegressor()\n",
    "scores = cross_val_score(dt, X_train, y_train, cv=5)\n",
    "print(f\"The average score for the DecisionTreeRegression model (training) is: %0.3f\" % np.mean(scores))\n",
    "\n",
    "# Second, we validate the model for the data for the year 2016.\n",
    "dt.fit(X_train, y_train)\n",
    "predictions_dt = dt.predict(X_test)\n",
    "r2 = r2_score(y_test, predictions_dt)\n",
    "print(f\"The R2 score of the DecisionTreeRegression model (test) is: %0.3f\" % r2)"
   ]
  },
  {
   "cell_type": "markdown",
   "metadata": {},
   "source": [
    "## 2.2 Training and validation of the DecisionTreeRegression model for selected features (n=7)"
   ]
  },
  {
   "cell_type": "code",
   "execution_count": 60,
   "metadata": {},
   "outputs": [],
   "source": [
    "selected_features = ['solar_capacity',\n",
    "                     'windspeed_10m',\n",
    "                     'irradiance_surface',\n",
    "                     'precipitation',\n",
    "                     'snowfall',\n",
    "                     'cloud_cover',\n",
    "                     'air_density']\n",
    "\n",
    "X_train = X_train_master[selected_features]\n",
    "X_test = X_test_master[selected_features]"
   ]
  },
  {
   "cell_type": "code",
   "execution_count": 62,
   "metadata": {},
   "outputs": [
    {
     "name": "stdout",
     "output_type": "stream",
     "text": [
      "The average score for the DecisionTreeRegression model (training) is: 0.903\n",
      "The R2 score of the DecisionTreeRegression model (test) is: 0.922\n"
     ]
    }
   ],
   "source": [
    "# Frist, we train the model for the prediction for solar power generation based on weather data.\n",
    "dt = DecisionTreeRegressor()\n",
    "scores = cross_val_score(dt, X_train, y_train, cv=5)\n",
    "print(f\"The average score for the DecisionTreeRegression model (training) is: %0.3f\" % np.mean(scores))\n",
    "\n",
    "# Second, we validate the model for the data for the year 2016.\n",
    "dt.fit(X_train, y_train)\n",
    "predictions_dt = dt.predict(X_test)\n",
    "r2 = r2_score(y_test, predictions_dt)\n",
    "print(f\"The R2 score of the DecisionTreeRegression model (test) is: %0.3f\" % r2)"
   ]
  },
  {
   "cell_type": "markdown",
   "metadata": {},
   "source": [
    "## 2.3 Training and validation of the DecisionTreeRegression model for selected features (n=1)"
   ]
  },
  {
   "cell_type": "code",
   "execution_count": 63,
   "metadata": {},
   "outputs": [],
   "source": [
    "selected_features = ['irradiance_surface']\n",
    "\n",
    "X_train = X_train_master[selected_features]\n",
    "X_test = X_test_master[selected_features]"
   ]
  },
  {
   "cell_type": "code",
   "execution_count": 64,
   "metadata": {},
   "outputs": [
    {
     "name": "stdout",
     "output_type": "stream",
     "text": [
      "The average score for the DecisionTreeRegression model (training) is: 0.877\n",
      "The R2 score of the DecisionTreeRegression model (test) is: 0.901\n"
     ]
    }
   ],
   "source": [
    "# Frist, we train the model for the prediction for solar power generation based on weather data.\n",
    "dt = DecisionTreeRegressor()\n",
    "scores = cross_val_score(dt, X_train, y_train, cv=5)\n",
    "print(f\"The average score for the DecisionTreeRegression model (training) is: %0.3f\" % np.mean(scores))\n",
    "\n",
    "# Second, we validate the model for the data for the year 2016.\n",
    "dt.fit(X_train, y_train)\n",
    "predictions_dt = dt.predict(X_test)\n",
    "r2 = r2_score(y_test, predictions_dt)\n",
    "print(f\"The R2 score of the DecisionTreeRegression model (test) is: %0.3f\" % r2)"
   ]
  },
  {
   "cell_type": "markdown",
   "metadata": {},
   "source": [
    "##### The DecisionTreeRegression model seems to be less effective than the LinearRegression model"
   ]
  },
  {
   "cell_type": "markdown",
   "metadata": {},
   "source": [
    "# 3. Predicting solar power generation using the RandomForestRegression model"
   ]
  },
  {
   "cell_type": "markdown",
   "metadata": {},
   "source": [
    "## 3.1 Training and validation of the RandomForestRegression model for all features (n=10)"
   ]
  },
  {
   "cell_type": "code",
   "execution_count": 71,
   "metadata": {},
   "outputs": [],
   "source": [
    "selected_features = ['solar_capacity',\n",
    "                     'windspeed_10m',\n",
    "                     'radiation_direct_horizontal',\n",
    "                     'radiation_diffuse_horizontal',\n",
    "                     'irradiance_surface',\n",
    "                     'irradiance_toa',\n",
    "                     'precipitation',\n",
    "                     'snowfall',\n",
    "                     'cloud_cover',\n",
    "                     'air_density']\n",
    "\n",
    "X_train = X_train_master[selected_features]\n",
    "X_test = X_test_master[selected_features]"
   ]
  },
  {
   "cell_type": "code",
   "execution_count": 72,
   "metadata": {},
   "outputs": [
    {
     "name": "stdout",
     "output_type": "stream",
     "text": [
      "The average score for the RandomForestRegression model (training) is: 0.944\n",
      "The R2 score of the RandomForestRegression model (test) is: 0.959\n"
     ]
    }
   ],
   "source": [
    "# Frist, we train the model for the prediction for solar power generation based on weather data.\n",
    "rf = RandomForestRegressor()\n",
    "scores = cross_val_score(rf, X_train, y_train, cv=5)\n",
    "print(f\"The average score for the RandomForestRegression model (training) is: %0.3f\" % np.mean(scores))\n",
    "\n",
    "# Second, we validate the model for the data for the year 2016.\n",
    "rf.fit(X_train, y_train)\n",
    "predictions_rf = rf.predict(X_test)\n",
    "r2 = r2_score(y_test, predictions_rf)\n",
    "print(f\"The R2 score of the RandomForestRegression model (test) is: %0.3f\" % r2)"
   ]
  },
  {
   "cell_type": "markdown",
   "metadata": {},
   "source": [
    "## 3.2 Training and validation of the RandomForestRegression model for selected features (n=7)"
   ]
  },
  {
   "cell_type": "code",
   "execution_count": 73,
   "metadata": {},
   "outputs": [],
   "source": [
    "selected_features = ['solar_capacity',\n",
    "                     'windspeed_10m',\n",
    "                     'irradiance_surface',\n",
    "                     'precipitation',\n",
    "                     'snowfall',\n",
    "                     'cloud_cover',\n",
    "                     'air_density']\n",
    "\n",
    "X_train = X_train_master[selected_features]\n",
    "X_test = X_test_master[selected_features]"
   ]
  },
  {
   "cell_type": "code",
   "execution_count": 74,
   "metadata": {},
   "outputs": [
    {
     "name": "stdout",
     "output_type": "stream",
     "text": [
      "The average score for the RandomForestRegression model (training) is: 0.938\n",
      "The R2 score of the RandomForestRegression model (test) is: 0.955\n"
     ]
    }
   ],
   "source": [
    "# Frist, we train the model for the prediction for solar power generation based on weather data.\n",
    "rf = RandomForestRegressor()\n",
    "scores = cross_val_score(rf, X_train, y_train, cv=5)\n",
    "print(f\"The average score for the RandomForestRegression model (training) is: %0.3f\" % np.mean(scores))\n",
    "\n",
    "# Second, we validate the model for the data for the year 2016.\n",
    "rf.fit(X_train, y_train)\n",
    "predictions_rf = rf.predict(X_test)\n",
    "r2 = r2_score(y_test, predictions_rf)\n",
    "print(f\"The R2 score of the RandomForestRegression model (test) is: %0.3f\" % r2)"
   ]
  },
  {
   "cell_type": "markdown",
   "metadata": {},
   "source": [
    "## 3.3 Training and validation of the RandomForestRegression model for selected features (n=1)"
   ]
  },
  {
   "cell_type": "code",
   "execution_count": 75,
   "metadata": {},
   "outputs": [],
   "source": [
    "selected_features = ['irradiance_surface']\n",
    "\n",
    "X_train = X_train_master[selected_features]\n",
    "X_test = X_test_master[selected_features]"
   ]
  },
  {
   "cell_type": "code",
   "execution_count": 76,
   "metadata": {},
   "outputs": [
    {
     "name": "stdout",
     "output_type": "stream",
     "text": [
      "The average score for the RandomForestRegression model (training) is: 0.907\n",
      "The R2 score of the RandomForestRegression model (test) is: 0.928\n"
     ]
    }
   ],
   "source": [
    "# Frist, we train the model for the prediction for solar power generation based on weather data.\n",
    "rf = RandomForestRegressor()\n",
    "scores = cross_val_score(rf, X_train, y_train, cv=5)\n",
    "print(f\"The average score for the RandomForestRegression model (training) is: %0.3f\" % np.mean(scores))\n",
    "\n",
    "# Second, we validate the model for the data for the year 2016.\n",
    "rf.fit(X_train, y_train)\n",
    "predictions_rf = rf.predict(X_test)\n",
    "r2 = r2_score(y_test, predictions_rf)\n",
    "print(f\"The R2 score of the RandomForestRegression model (test) is: %0.3f\" % r2)"
   ]
  },
  {
   "cell_type": "markdown",
   "metadata": {},
   "source": [
    "##### Besides requiring much more computing resources, the RandomForestRegression model does not seem as effective as the LinearRegression model when the sole feature `irradiance_surface` is considered for the modeling. "
   ]
  },
  {
   "cell_type": "markdown",
   "metadata": {},
   "source": [
    "## 3.3 Optimization of the RandomForestRegression model for selected features"
   ]
  },
  {
   "cell_type": "markdown",
   "metadata": {},
   "source": [
    "### 3.3.1 Model optimization by varying the number of decison trees in the RandomForestRegression model"
   ]
  },
  {
   "cell_type": "code",
   "execution_count": 79,
   "metadata": {},
   "outputs": [],
   "source": [
    "selected_features = ['solar_capacity',\n",
    "                     'windspeed_10m',\n",
    "                     'irradiance_surface',\n",
    "                     'precipitation',\n",
    "                     'snowfall',\n",
    "                     'cloud_cover',\n",
    "                     'air_density']\n",
    "\n",
    "X_train = X_train_master[selected_features]\n",
    "X_test = X_test_master[selected_features]"
   ]
  },
  {
   "cell_type": "code",
   "execution_count": 84,
   "metadata": {},
   "outputs": [
    {
     "name": "stdout",
     "output_type": "stream",
     "text": [
      "\n",
      "For a RandomForestRegression model with 2 decision trees:\n",
      "The average score for the training of the model is: 0.922\n",
      "The R2 score for the validation of the model is: 0.928\n",
      "\n",
      "For a RandomForestRegression model with 5 decision trees:\n",
      "The average score for the training of the model is: 0.933\n",
      "The R2 score for the validation of the model is: 0.950\n",
      "\n",
      "For a RandomForestRegression model with 10 decision trees:\n",
      "The average score for the training of the model is: 0.934\n",
      "The R2 score for the validation of the model is: 0.951\n",
      "\n",
      "For a RandomForestRegression model with 20 decision trees:\n",
      "The average score for the training of the model is: 0.937\n",
      "The R2 score for the validation of the model is: 0.955\n",
      "\n",
      "For a RandomForestRegression model with 50 decision trees:\n",
      "The average score for the training of the model is: 0.938\n",
      "The R2 score for the validation of the model is: 0.953\n",
      "\n",
      "For a RandomForestRegression model with 100 decision trees:\n",
      "The average score for the training of the model is: 0.939\n",
      "The R2 score for the validation of the model is: 0.956\n",
      "\n",
      "For a RandomForestRegression model with 200 decision trees:\n",
      "The average score for the training of the model is: 0.939\n",
      "The R2 score for the validation of the model is: 0.956\n"
     ]
    }
   ],
   "source": [
    "# Check the behaviour of the RandomForestRegression with the following number of decision trees\n",
    "list_no_trees = [2, 5, 10, 20, 50, 100, 200]\n",
    "\n",
    "for i in range(len(list_no_trees)):\n",
    "    rf = RandomForestRegressor(n_estimators=list_no_trees[i])\n",
    "    print(f\"\\nFor a RandomForestRegression model with {list_no_trees[i]} decision trees:\")\n",
    "    scores = cross_val_score(rf, X_train, y_train, cv=5)\n",
    "    print(f\"The average score for the training of the model is: %0.3f\" % np.mean(scores))\n",
    "    rf.fit(X_train, y_train)\n",
    "    predictions_rf = rf.predict(X_test)\n",
    "    r2 = r2_score(y_test, predictions_rf)\n",
    "    print(f\"The R2 score for the validation of the model is: %0.3f\" % r2)"
   ]
  },
  {
   "cell_type": "markdown",
   "metadata": {},
   "source": [
    "##### A RandomForestRegression model with 20 decision trees seems to be a satisfying compromise for model performance and goodness to fit"
   ]
  },
  {
   "cell_type": "markdown",
   "metadata": {},
   "source": [
    "### 3.3.2 Model optimization by identifying the most predictive features"
   ]
  },
  {
   "cell_type": "code",
   "execution_count": 100,
   "metadata": {},
   "outputs": [],
   "source": [
    "# We intend to find out which features are most predictive of the solar power generation.\n",
    "\n",
    "# In order to explain feature selection, we add a column of random numbers. \n",
    "# Any feature less important than a random column should be tossed out.\n",
    "\n",
    "np.random.seed(seed = 42)\n",
    "solar_2 = solar.copy()\n",
    "solar_2['random'] = np.random.random(size = len(X_solar))\n",
    "\n",
    "X_solar_2 = solar_2[['solar_capacity','windspeed_10m', 'radiation_direct_horizontal', 'radiation_diffuse_horizontal', 'irradiance_surface', 'irradiance_toa', 'precipitation', 'snowfall', 'cloud_cover', 'air_density', 'random']]\n",
    "y_solar = solar_2['solar_generation_actual']\n",
    "\n",
    "\n",
    "# We will train the machine learning algorithms on the data for the years 2014 and 2015\n",
    "X_train_master_2 = X_solar_2.loc[(X_solar_2.index >= \"2014-01-01 00:00:00\") & (X_solar_2.index <= \"2015-12-31 23:00:00\")]\n",
    "y_train = y_solar.loc[(X_solar_2.index >= \"2014-01-01 00:00:00\") & (X_solar_2.index <= \"2015-12-31 23:00:00\")]\n",
    "\n",
    "# We will test the models on the data for the year 2016\n",
    "X_test_master_2 = X_solar_2.loc[(X_solar_2.index >= \"2016-01-01 00:00:00\") & (X_solar_2.index <= \"2016-12-31 23:00:00\")]\n",
    "y_test = y_solar.loc[(X_solar_2.index >= \"2016-01-01 00:00:00\") & (X_solar_2.index <= \"2016-12-31 23:00:00\")]\n",
    "\n",
    "selected_features = ['solar_capacity',\n",
    "                     'windspeed_10m',\n",
    "                     'radiation_direct_horizontal',\n",
    "                     'radiation_diffuse_horizontal',\n",
    "                     'irradiance_surface',\n",
    "                     'irradiance_toa',\n",
    "                     'precipitation',\n",
    "                     'snowfall',\n",
    "                     'cloud_cover',\n",
    "                     'air_density',\n",
    "                     'random']\n",
    "\n",
    "X_train = X_train_master_2[selected_features]\n",
    "X_test = X_test_master_2[selected_features]"
   ]
  },
  {
   "cell_type": "code",
   "execution_count": 101,
   "metadata": {},
   "outputs": [
    {
     "name": "stdout",
     "output_type": "stream",
     "text": [
      "Features sorted by their score for the RandomForestRegression model:\n"
     ]
    },
    {
     "data": {
      "text/html": [
       "<div>\n",
       "<style scoped>\n",
       "    .dataframe tbody tr th:only-of-type {\n",
       "        vertical-align: middle;\n",
       "    }\n",
       "\n",
       "    .dataframe tbody tr th {\n",
       "        vertical-align: top;\n",
       "    }\n",
       "\n",
       "    .dataframe thead th {\n",
       "        text-align: right;\n",
       "    }\n",
       "</style>\n",
       "<table border=\"1\" class=\"dataframe\">\n",
       "  <thead>\n",
       "    <tr style=\"text-align: right;\">\n",
       "      <th></th>\n",
       "      <th>features</th>\n",
       "      <th>importances</th>\n",
       "    </tr>\n",
       "  </thead>\n",
       "  <tbody>\n",
       "    <tr>\n",
       "      <th>0</th>\n",
       "      <td>irradiance_surface</td>\n",
       "      <td>0.949</td>\n",
       "    </tr>\n",
       "    <tr>\n",
       "      <th>1</th>\n",
       "      <td>precipitation</td>\n",
       "      <td>0.015</td>\n",
       "    </tr>\n",
       "    <tr>\n",
       "      <th>2</th>\n",
       "      <td>solar_capacity</td>\n",
       "      <td>0.008</td>\n",
       "    </tr>\n",
       "    <tr>\n",
       "      <th>3</th>\n",
       "      <td>air_density</td>\n",
       "      <td>0.007</td>\n",
       "    </tr>\n",
       "    <tr>\n",
       "      <th>4</th>\n",
       "      <td>windspeed_10m</td>\n",
       "      <td>0.004</td>\n",
       "    </tr>\n",
       "    <tr>\n",
       "      <th>5</th>\n",
       "      <td>radiation_diffuse_horizontal</td>\n",
       "      <td>0.004</td>\n",
       "    </tr>\n",
       "    <tr>\n",
       "      <th>6</th>\n",
       "      <td>cloud_cover</td>\n",
       "      <td>0.004</td>\n",
       "    </tr>\n",
       "    <tr>\n",
       "      <th>7</th>\n",
       "      <td>radiation_direct_horizontal</td>\n",
       "      <td>0.003</td>\n",
       "    </tr>\n",
       "    <tr>\n",
       "      <th>8</th>\n",
       "      <td>irradiance_toa</td>\n",
       "      <td>0.002</td>\n",
       "    </tr>\n",
       "    <tr>\n",
       "      <th>9</th>\n",
       "      <td>random</td>\n",
       "      <td>0.002</td>\n",
       "    </tr>\n",
       "    <tr>\n",
       "      <th>10</th>\n",
       "      <td>snowfall</td>\n",
       "      <td>0.001</td>\n",
       "    </tr>\n",
       "  </tbody>\n",
       "</table>\n",
       "</div>"
      ],
      "text/plain": [
       "                        features  importances\n",
       "0             irradiance_surface        0.949\n",
       "1                  precipitation        0.015\n",
       "2                 solar_capacity        0.008\n",
       "3                    air_density        0.007\n",
       "4                  windspeed_10m        0.004\n",
       "5   radiation_diffuse_horizontal        0.004\n",
       "6                    cloud_cover        0.004\n",
       "7    radiation_direct_horizontal        0.003\n",
       "8                 irradiance_toa        0.002\n",
       "9                         random        0.002\n",
       "10                      snowfall        0.001"
      ]
     },
     "execution_count": 101,
     "metadata": {},
     "output_type": "execute_result"
    }
   ],
   "source": [
    "rf = RandomForestRegressor(n_estimators=20)\n",
    "rf.fit(X_train, y_train)\n",
    "\n",
    "rf_features_dict = {}\n",
    "\n",
    "for score, feat in zip(map(lambda x: round(x, 3), rf.feature_importances_), X_train.columns):\n",
    "    rf_features_dict[feat] = score\n",
    "    \n",
    "rf_features_dict_sorted = sorted(rf_features_dict.items(), key=lambda x: x[1], reverse=True)\n",
    "\n",
    "df= pd.DataFrame(rf_features_dict_sorted, columns=['features', 'importances'])\n",
    "\n",
    "print(\"Features sorted by their score for the RandomForestRegression model:\")\n",
    "df"
   ]
  },
  {
   "cell_type": "code",
   "execution_count": 104,
   "metadata": {},
   "outputs": [
    {
     "data": {
      "text/html": [
       "<div>\n",
       "<style scoped>\n",
       "    .dataframe tbody tr th:only-of-type {\n",
       "        vertical-align: middle;\n",
       "    }\n",
       "\n",
       "    .dataframe tbody tr th {\n",
       "        vertical-align: top;\n",
       "    }\n",
       "\n",
       "    .dataframe thead th {\n",
       "        text-align: right;\n",
       "    }\n",
       "</style>\n",
       "<table border=\"1\" class=\"dataframe\">\n",
       "  <thead>\n",
       "    <tr style=\"text-align: right;\">\n",
       "      <th></th>\n",
       "      <th>Importance</th>\n",
       "    </tr>\n",
       "    <tr>\n",
       "      <th>Feature</th>\n",
       "      <th></th>\n",
       "    </tr>\n",
       "  </thead>\n",
       "  <tbody>\n",
       "    <tr>\n",
       "      <th>irradiance_surface</th>\n",
       "      <td>1.859077</td>\n",
       "    </tr>\n",
       "    <tr>\n",
       "      <th>precipitation</th>\n",
       "      <td>0.014420</td>\n",
       "    </tr>\n",
       "    <tr>\n",
       "      <th>air_density</th>\n",
       "      <td>0.009389</td>\n",
       "    </tr>\n",
       "    <tr>\n",
       "      <th>radiation_diffuse_horizontal</th>\n",
       "      <td>0.005300</td>\n",
       "    </tr>\n",
       "    <tr>\n",
       "      <th>irradiance_toa</th>\n",
       "      <td>0.002579</td>\n",
       "    </tr>\n",
       "    <tr>\n",
       "      <th>cloud_cover</th>\n",
       "      <td>0.002160</td>\n",
       "    </tr>\n",
       "    <tr>\n",
       "      <th>radiation_direct_horizontal</th>\n",
       "      <td>0.002148</td>\n",
       "    </tr>\n",
       "    <tr>\n",
       "      <th>windspeed_10m</th>\n",
       "      <td>0.002127</td>\n",
       "    </tr>\n",
       "    <tr>\n",
       "      <th>random</th>\n",
       "      <td>0.000479</td>\n",
       "    </tr>\n",
       "    <tr>\n",
       "      <th>snowfall</th>\n",
       "      <td>0.000191</td>\n",
       "    </tr>\n",
       "    <tr>\n",
       "      <th>solar_capacity</th>\n",
       "      <td>0.000000</td>\n",
       "    </tr>\n",
       "  </tbody>\n",
       "</table>\n",
       "</div>"
      ],
      "text/plain": [
       "                              Importance\n",
       "Feature                                 \n",
       "irradiance_surface              1.859077\n",
       "precipitation                   0.014420\n",
       "air_density                     0.009389\n",
       "radiation_diffuse_horizontal    0.005300\n",
       "irradiance_toa                  0.002579\n",
       "cloud_cover                     0.002160\n",
       "radiation_direct_horizontal     0.002148\n",
       "windspeed_10m                   0.002127\n",
       "random                          0.000479\n",
       "snowfall                        0.000191\n",
       "solar_capacity                  0.000000"
      ]
     },
     "execution_count": 104,
     "metadata": {},
     "output_type": "execute_result"
    }
   ],
   "source": [
    "from rfpimp import importances\n",
    "importances(rf, X_test, y_test)"
   ]
  },
  {
   "cell_type": "code",
   "execution_count": 110,
   "metadata": {},
   "outputs": [
    {
     "data": {
      "image/png": "[encoded data removed]",
      "text/plain": [
       "<Figure size 432x288 with 1 Axes>"
      ]
     },
     "metadata": {
      "needs_background": "light"
     },
     "output_type": "display_data"
    }
   ],
   "source": [
    "result = permutation_importance(rf, X_test, y_test, n_repeats=10,\n",
    "                                random_state=42, n_jobs=2)\n",
    "sorted_idx = result.importances_mean.argsort()\n",
    "\n",
    "fig, ax = plt.subplots()\n",
    "ax.boxplot(result.importances[sorted_idx].T,\n",
    "           vert=False, labels=X_test.columns[sorted_idx])\n",
    "ax.set_title(\"Permutation Importances (test set)\")\n",
    "fig.tight_layout()\n",
    "plt.show()"
   ]
  },
  {
   "cell_type": "code",
   "execution_count": 112,
   "metadata": {},
   "outputs": [
    {
     "data": {
      "image/png": "[encoded data removed]",
      "text/plain": [
       "<Figure size 432x288 with 1 Axes>"
      ]
     },
     "metadata": {
      "needs_background": "light"
     },
     "output_type": "display_data"
    }
   ],
   "source": [
    "result = permutation_importance(rf, X_train, y_train, n_repeats=10,\n",
    "                                random_state=42, n_jobs=2)\n",
    "sorted_idx = result.importances_mean.argsort()\n",
    "\n",
    "fig, ax = plt.subplots()\n",
    "ax.boxplot(result.importances[sorted_idx].T,\n",
    "           vert=False, labels=X_train.columns[sorted_idx])\n",
    "ax.set_title(\"Permutation Importances (train set)\")\n",
    "fig.tight_layout()\n",
    "plt.show()"
   ]
  },
  {
   "cell_type": "code",
   "execution_count": 109,
   "metadata": {},
   "outputs": [
    {
     "name": "stdout",
     "output_type": "stream",
     "text": [
      "RF train accuracy: 0.996\n",
      "RF test accuracy: 0.956\n"
     ]
    }
   ],
   "source": [
    "print(\"RF train accuracy: %0.3f\" % rf.score(X_train, y_train))\n",
    "print(\"RF test accuracy: %0.3f\" % rf.score(X_test, y_test))"
   ]
  },
  {
   "cell_type": "code",
   "execution_count": 102,
   "metadata": {},
   "outputs": [
    {
     "data": {
      "image/png": "[encoded data removed]",
      "text/plain": [
       "<Figure size 864x576 with 2 Axes>"
      ]
     },
     "metadata": {
      "needs_background": "light"
     },
     "output_type": "display_data"
    }
   ],
   "source": [
    "viz = plot_corr_heatmap(X_train, figsize=(12,8))\n",
    "viz.view()"
   ]
  },
  {
   "cell_type": "code",
   "execution_count": 114,
   "metadata": {},
   "outputs": [
    {
     "name": "stdout",
     "output_type": "stream",
     "text": [
      "The average score for the RandomForestRegression model (training) is: 0.946\n",
      "The R2 score of the RandomForestRegression model (test) is: 0.961\n",
      "RF train accuracy: 0.995\n",
      "RF test accuracy: 0.961\n"
     ]
    }
   ],
   "source": [
    "selected_features = ['windspeed_10m',\n",
    "                     'irradiance_surface',\n",
    "                     'precipitation',\n",
    "                     'cloud_cover',\n",
    "                     'air_density']\n",
    "\n",
    "X_train = X_train_master_2[selected_features]\n",
    "X_test = X_test_master_2[selected_features]\n",
    "\n",
    "# Frist, we train the model for the prediction for solar power generation based on weather data.\n",
    "rf = RandomForestRegressor(n_estimators=20)\n",
    "scores = cross_val_score(rf, X_train, y_train, cv=5)\n",
    "print(f\"The average score for the RandomForestRegression model (training) is: %0.3f\" % np.mean(scores))\n",
    "\n",
    "# Second, we validate the model for the data for the year 2016.\n",
    "rf.fit(X_train, y_train)\n",
    "predictions_rf = rf.predict(X_test)\n",
    "r2 = r2_score(y_test, predictions_rf)\n",
    "print(f\"The R2 score of the RandomForestRegression model (test) is: %0.3f\" % r2)\n",
    "\n",
    "print(\"RF train accuracy: %0.3f\" % rf.score(X_train, y_train))\n",
    "print(\"RF test accuracy: %0.3f\" % rf.score(X_test, y_test))"
   ]
  },
  {
   "cell_type": "code",
   "execution_count": 115,
   "metadata": {},
   "outputs": [
    {
     "name": "stdout",
     "output_type": "stream",
     "text": [
      "The average score for the RandomForestRegression model (training) is: 0.907\n",
      "The R2 score of the RandomForestRegression model (test) is: 0.926\n",
      "RF train accuracy: 0.988\n",
      "RF test accuracy: 0.926\n"
     ]
    }
   ],
   "source": [
    "selected_features = ['irradiance_surface']\n",
    "\n",
    "X_train = X_train_master_2[selected_features]\n",
    "X_test = X_test_master_2[selected_features]\n",
    "\n",
    "# Frist, we train the model for the prediction for solar power generation based on weather data.\n",
    "rf = RandomForestRegressor(n_estimators=20)\n",
    "scores = cross_val_score(rf, X_train, y_train, cv=5)\n",
    "print(f\"The average score for the RandomForestRegression model (training) is: %0.3f\" % np.mean(scores))\n",
    "\n",
    "# Second, we validate the model for the data for the year 2016.\n",
    "rf.fit(X_train, y_train)\n",
    "predictions_rf = rf.predict(X_test)\n",
    "r2 = r2_score(y_test, predictions_rf)\n",
    "print(f\"The R2 score of the RandomForestRegression model (test) is: %0.3f\" % r2)\n",
    "\n",
    "print(\"RF train accuracy: %0.3f\" % rf.score(X_train, y_train))\n",
    "print(\"RF test accuracy: %0.3f\" % rf.score(X_test, y_test))"
   ]
  }
 ],
 "metadata": {
  "kernelspec": {
   "display_name": "Python 3",
   "language": "python",
   "name": "python3"
  },
  "language_info": {
   "codemirror_mode": {
    "name": "ipython",
    "version": 3
   },
   "file_extension": ".py",
   "mimetype": "text/x-python",
   "name": "python",
   "nbconvert_exporter": "python",
   "pygments_lexer": "ipython3",
   "version": "3.8.1"
  }
 },
 "nbformat": 4,
 "nbformat_minor": 4
}
