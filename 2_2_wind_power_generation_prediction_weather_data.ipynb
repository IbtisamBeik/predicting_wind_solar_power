{
 "cells": [
  {
   "cell_type": "code",
   "execution_count": 3,
   "metadata": {},
   "outputs": [],
   "source": [
    "import numpy as np\n",
    "import pandas as pd\n",
    "import matplotlib.pyplot as plt\n",
    "import seaborn as sns\n",
    "%matplotlib inline\n",
    "from sklearn.linear_model import LinearRegression\n",
    "from sklearn.model_selection import cross_val_score\n",
    "from sklearn.metrics import r2_score\n",
    "from sklearn.preprocessing import StandardScaler\n",
    "from sklearn.metrics import mean_squared_error\n",
    "from sklearn.ensemble import RandomForestRegressor\n",
    "from sklearn.tree import DecisionTreeRegressor\n",
    "from sklearn.datasets import fetch_openml\n",
    "from sklearn.impute import SimpleImputer\n",
    "from sklearn.inspection import permutation_importance\n",
    "from sklearn.compose import ColumnTransformer\n",
    "from sklearn.model_selection import train_test_split\n",
    "from sklearn.pipeline import Pipeline\n",
    "from sklearn.preprocessing import OneHotEncoder\n",
    "from statsmodels.api import OLS"
   ]
  },
  {
   "cell_type": "code",
   "execution_count": 4,
   "metadata": {},
   "outputs": [
    {
     "data": {
      "text/html": [
       "<div>\n",
       "<style scoped>\n",
       "    .dataframe tbody tr th:only-of-type {\n",
       "        vertical-align: middle;\n",
       "    }\n",
       "\n",
       "    .dataframe tbody tr th {\n",
       "        vertical-align: top;\n",
       "    }\n",
       "\n",
       "    .dataframe thead th {\n",
       "        text-align: right;\n",
       "    }\n",
       "</style>\n",
       "<table border=\"1\" class=\"dataframe\">\n",
       "  <thead>\n",
       "    <tr style=\"text-align: right;\">\n",
       "      <th></th>\n",
       "      <th>solar_capacity</th>\n",
       "      <th>solar_generation_actual</th>\n",
       "      <th>wind_capacity</th>\n",
       "      <th>wind_generation_actual</th>\n",
       "      <th>windspeed_10m</th>\n",
       "      <th>radiation_direct_horizontal</th>\n",
       "      <th>radiation_diffuse_horizontal</th>\n",
       "      <th>precipitation</th>\n",
       "      <th>temperature</th>\n",
       "      <th>irradiance_surface</th>\n",
       "      <th>irradiance_toa</th>\n",
       "      <th>snowfall</th>\n",
       "      <th>snow_mass</th>\n",
       "      <th>cloud_cover</th>\n",
       "      <th>air_density</th>\n",
       "    </tr>\n",
       "  </thead>\n",
       "  <tbody>\n",
       "    <tr>\n",
       "      <th>2014-01-01 00:00:00+00:00</th>\n",
       "      <td>36012</td>\n",
       "      <td>0.0</td>\n",
       "      <td>32425</td>\n",
       "      <td>8086.0</td>\n",
       "      <td>4.981596</td>\n",
       "      <td>0.0</td>\n",
       "      <td>0.0</td>\n",
       "      <td>0.0364</td>\n",
       "      <td>-1.146</td>\n",
       "      <td>0.0</td>\n",
       "      <td>0.0</td>\n",
       "      <td>0.0056</td>\n",
       "      <td>0.2378</td>\n",
       "      <td>0.9562</td>\n",
       "      <td>1.2539</td>\n",
       "    </tr>\n",
       "    <tr>\n",
       "      <th>2014-01-01 01:00:00+00:00</th>\n",
       "      <td>36012</td>\n",
       "      <td>0.0</td>\n",
       "      <td>32425</td>\n",
       "      <td>8803.0</td>\n",
       "      <td>4.932105</td>\n",
       "      <td>0.0</td>\n",
       "      <td>0.0</td>\n",
       "      <td>0.0449</td>\n",
       "      <td>-1.104</td>\n",
       "      <td>0.0</td>\n",
       "      <td>0.0</td>\n",
       "      <td>0.0074</td>\n",
       "      <td>0.2428</td>\n",
       "      <td>0.9672</td>\n",
       "      <td>1.2535</td>\n",
       "    </tr>\n",
       "    <tr>\n",
       "      <th>2014-01-01 02:00:00+00:00</th>\n",
       "      <td>36012</td>\n",
       "      <td>0.0</td>\n",
       "      <td>32425</td>\n",
       "      <td>8970.0</td>\n",
       "      <td>4.865019</td>\n",
       "      <td>0.0</td>\n",
       "      <td>0.0</td>\n",
       "      <td>0.0513</td>\n",
       "      <td>-1.059</td>\n",
       "      <td>0.0</td>\n",
       "      <td>0.0</td>\n",
       "      <td>0.0129</td>\n",
       "      <td>0.2521</td>\n",
       "      <td>0.9733</td>\n",
       "      <td>1.2530</td>\n",
       "    </tr>\n",
       "    <tr>\n",
       "      <th>2014-01-01 03:00:00+00:00</th>\n",
       "      <td>36012</td>\n",
       "      <td>0.0</td>\n",
       "      <td>32425</td>\n",
       "      <td>8510.0</td>\n",
       "      <td>4.842338</td>\n",
       "      <td>0.0</td>\n",
       "      <td>0.0</td>\n",
       "      <td>0.0544</td>\n",
       "      <td>-0.926</td>\n",
       "      <td>0.0</td>\n",
       "      <td>0.0</td>\n",
       "      <td>0.0140</td>\n",
       "      <td>0.2642</td>\n",
       "      <td>0.9651</td>\n",
       "      <td>1.2523</td>\n",
       "    </tr>\n",
       "    <tr>\n",
       "      <th>2014-01-01 04:00:00+00:00</th>\n",
       "      <td>36012</td>\n",
       "      <td>0.0</td>\n",
       "      <td>32425</td>\n",
       "      <td>8360.0</td>\n",
       "      <td>4.772505</td>\n",
       "      <td>0.0</td>\n",
       "      <td>0.0</td>\n",
       "      <td>0.0512</td>\n",
       "      <td>-0.746</td>\n",
       "      <td>0.0</td>\n",
       "      <td>0.0</td>\n",
       "      <td>0.0144</td>\n",
       "      <td>0.2764</td>\n",
       "      <td>0.9370</td>\n",
       "      <td>1.2516</td>\n",
       "    </tr>\n",
       "    <tr>\n",
       "      <th>...</th>\n",
       "      <td>...</td>\n",
       "      <td>...</td>\n",
       "      <td>...</td>\n",
       "      <td>...</td>\n",
       "      <td>...</td>\n",
       "      <td>...</td>\n",
       "      <td>...</td>\n",
       "      <td>...</td>\n",
       "      <td>...</td>\n",
       "      <td>...</td>\n",
       "      <td>...</td>\n",
       "      <td>...</td>\n",
       "      <td>...</td>\n",
       "      <td>...</td>\n",
       "      <td>...</td>\n",
       "    </tr>\n",
       "    <tr>\n",
       "      <th>2016-12-31 19:00:00+00:00</th>\n",
       "      <td>40634</td>\n",
       "      <td>0.0</td>\n",
       "      <td>49021</td>\n",
       "      <td>15303.0</td>\n",
       "      <td>4.212916</td>\n",
       "      <td>0.0</td>\n",
       "      <td>0.0</td>\n",
       "      <td>0.0098</td>\n",
       "      <td>-1.970</td>\n",
       "      <td>0.0</td>\n",
       "      <td>0.0</td>\n",
       "      <td>0.0017</td>\n",
       "      <td>0.0931</td>\n",
       "      <td>0.5102</td>\n",
       "      <td>1.2751</td>\n",
       "    </tr>\n",
       "    <tr>\n",
       "      <th>2016-12-31 20:00:00+00:00</th>\n",
       "      <td>40634</td>\n",
       "      <td>0.0</td>\n",
       "      <td>49021</td>\n",
       "      <td>15354.0</td>\n",
       "      <td>4.287475</td>\n",
       "      <td>0.0</td>\n",
       "      <td>0.0</td>\n",
       "      <td>0.0099</td>\n",
       "      <td>-2.130</td>\n",
       "      <td>0.0</td>\n",
       "      <td>0.0</td>\n",
       "      <td>0.0020</td>\n",
       "      <td>0.0944</td>\n",
       "      <td>0.5235</td>\n",
       "      <td>1.2756</td>\n",
       "    </tr>\n",
       "    <tr>\n",
       "      <th>2016-12-31 21:00:00+00:00</th>\n",
       "      <td>40634</td>\n",
       "      <td>0.0</td>\n",
       "      <td>49021</td>\n",
       "      <td>14848.0</td>\n",
       "      <td>4.296530</td>\n",
       "      <td>0.0</td>\n",
       "      <td>0.0</td>\n",
       "      <td>0.0093</td>\n",
       "      <td>-2.293</td>\n",
       "      <td>0.0</td>\n",
       "      <td>0.0</td>\n",
       "      <td>0.0020</td>\n",
       "      <td>0.0959</td>\n",
       "      <td>0.5248</td>\n",
       "      <td>1.2759</td>\n",
       "    </tr>\n",
       "    <tr>\n",
       "      <th>2016-12-31 22:00:00+00:00</th>\n",
       "      <td>40634</td>\n",
       "      <td>0.0</td>\n",
       "      <td>49021</td>\n",
       "      <td>15056.0</td>\n",
       "      <td>4.419977</td>\n",
       "      <td>0.0</td>\n",
       "      <td>0.0</td>\n",
       "      <td>0.0093</td>\n",
       "      <td>-2.443</td>\n",
       "      <td>0.0</td>\n",
       "      <td>0.0</td>\n",
       "      <td>0.0021</td>\n",
       "      <td>0.0973</td>\n",
       "      <td>0.5319</td>\n",
       "      <td>1.2760</td>\n",
       "    </tr>\n",
       "    <tr>\n",
       "      <th>2016-12-31 23:00:00+00:00</th>\n",
       "      <td>40636</td>\n",
       "      <td>0.0</td>\n",
       "      <td>49025</td>\n",
       "      <td>15422.0</td>\n",
       "      <td>4.461064</td>\n",
       "      <td>0.0</td>\n",
       "      <td>0.0</td>\n",
       "      <td>0.0103</td>\n",
       "      <td>-2.624</td>\n",
       "      <td>0.0</td>\n",
       "      <td>0.0</td>\n",
       "      <td>0.0023</td>\n",
       "      <td>0.0988</td>\n",
       "      <td>0.5089</td>\n",
       "      <td>1.2758</td>\n",
       "    </tr>\n",
       "  </tbody>\n",
       "</table>\n",
       "<p>26287 rows × 15 columns</p>\n",
       "</div>"
      ],
      "text/plain": [
       "                           solar_capacity  solar_generation_actual  \\\n",
       "2014-01-01 00:00:00+00:00           36012                      0.0   \n",
       "2014-01-01 01:00:00+00:00           36012                      0.0   \n",
       "2014-01-01 02:00:00+00:00           36012                      0.0   \n",
       "2014-01-01 03:00:00+00:00           36012                      0.0   \n",
       "2014-01-01 04:00:00+00:00           36012                      0.0   \n",
       "...                                   ...                      ...   \n",
       "2016-12-31 19:00:00+00:00           40634                      0.0   \n",
       "2016-12-31 20:00:00+00:00           40634                      0.0   \n",
       "2016-12-31 21:00:00+00:00           40634                      0.0   \n",
       "2016-12-31 22:00:00+00:00           40634                      0.0   \n",
       "2016-12-31 23:00:00+00:00           40636                      0.0   \n",
       "\n",
       "                           wind_capacity  wind_generation_actual  \\\n",
       "2014-01-01 00:00:00+00:00          32425                  8086.0   \n",
       "2014-01-01 01:00:00+00:00          32425                  8803.0   \n",
       "2014-01-01 02:00:00+00:00          32425                  8970.0   \n",
       "2014-01-01 03:00:00+00:00          32425                  8510.0   \n",
       "2014-01-01 04:00:00+00:00          32425                  8360.0   \n",
       "...                                  ...                     ...   \n",
       "2016-12-31 19:00:00+00:00          49021                 15303.0   \n",
       "2016-12-31 20:00:00+00:00          49021                 15354.0   \n",
       "2016-12-31 21:00:00+00:00          49021                 14848.0   \n",
       "2016-12-31 22:00:00+00:00          49021                 15056.0   \n",
       "2016-12-31 23:00:00+00:00          49025                 15422.0   \n",
       "\n",
       "                           windspeed_10m  radiation_direct_horizontal  \\\n",
       "2014-01-01 00:00:00+00:00       4.981596                          0.0   \n",
       "2014-01-01 01:00:00+00:00       4.932105                          0.0   \n",
       "2014-01-01 02:00:00+00:00       4.865019                          0.0   \n",
       "2014-01-01 03:00:00+00:00       4.842338                          0.0   \n",
       "2014-01-01 04:00:00+00:00       4.772505                          0.0   \n",
       "...                                  ...                          ...   \n",
       "2016-12-31 19:00:00+00:00       4.212916                          0.0   \n",
       "2016-12-31 20:00:00+00:00       4.287475                          0.0   \n",
       "2016-12-31 21:00:00+00:00       4.296530                          0.0   \n",
       "2016-12-31 22:00:00+00:00       4.419977                          0.0   \n",
       "2016-12-31 23:00:00+00:00       4.461064                          0.0   \n",
       "\n",
       "                           radiation_diffuse_horizontal  precipitation  \\\n",
       "2014-01-01 00:00:00+00:00                           0.0         0.0364   \n",
       "2014-01-01 01:00:00+00:00                           0.0         0.0449   \n",
       "2014-01-01 02:00:00+00:00                           0.0         0.0513   \n",
       "2014-01-01 03:00:00+00:00                           0.0         0.0544   \n",
       "2014-01-01 04:00:00+00:00                           0.0         0.0512   \n",
       "...                                                 ...            ...   \n",
       "2016-12-31 19:00:00+00:00                           0.0         0.0098   \n",
       "2016-12-31 20:00:00+00:00                           0.0         0.0099   \n",
       "2016-12-31 21:00:00+00:00                           0.0         0.0093   \n",
       "2016-12-31 22:00:00+00:00                           0.0         0.0093   \n",
       "2016-12-31 23:00:00+00:00                           0.0         0.0103   \n",
       "\n",
       "                           temperature  irradiance_surface  irradiance_toa  \\\n",
       "2014-01-01 00:00:00+00:00       -1.146                 0.0             0.0   \n",
       "2014-01-01 01:00:00+00:00       -1.104                 0.0             0.0   \n",
       "2014-01-01 02:00:00+00:00       -1.059                 0.0             0.0   \n",
       "2014-01-01 03:00:00+00:00       -0.926                 0.0             0.0   \n",
       "2014-01-01 04:00:00+00:00       -0.746                 0.0             0.0   \n",
       "...                                ...                 ...             ...   \n",
       "2016-12-31 19:00:00+00:00       -1.970                 0.0             0.0   \n",
       "2016-12-31 20:00:00+00:00       -2.130                 0.0             0.0   \n",
       "2016-12-31 21:00:00+00:00       -2.293                 0.0             0.0   \n",
       "2016-12-31 22:00:00+00:00       -2.443                 0.0             0.0   \n",
       "2016-12-31 23:00:00+00:00       -2.624                 0.0             0.0   \n",
       "\n",
       "                           snowfall  snow_mass  cloud_cover  air_density  \n",
       "2014-01-01 00:00:00+00:00    0.0056     0.2378       0.9562       1.2539  \n",
       "2014-01-01 01:00:00+00:00    0.0074     0.2428       0.9672       1.2535  \n",
       "2014-01-01 02:00:00+00:00    0.0129     0.2521       0.9733       1.2530  \n",
       "2014-01-01 03:00:00+00:00    0.0140     0.2642       0.9651       1.2523  \n",
       "2014-01-01 04:00:00+00:00    0.0144     0.2764       0.9370       1.2516  \n",
       "...                             ...        ...          ...          ...  \n",
       "2016-12-31 19:00:00+00:00    0.0017     0.0931       0.5102       1.2751  \n",
       "2016-12-31 20:00:00+00:00    0.0020     0.0944       0.5235       1.2756  \n",
       "2016-12-31 21:00:00+00:00    0.0020     0.0959       0.5248       1.2759  \n",
       "2016-12-31 22:00:00+00:00    0.0021     0.0973       0.5319       1.2760  \n",
       "2016-12-31 23:00:00+00:00    0.0023     0.0988       0.5089       1.2758  \n",
       "\n",
       "[26287 rows x 15 columns]"
      ]
     },
     "execution_count": 4,
     "metadata": {},
     "output_type": "execute_result"
    }
   ],
   "source": [
    "combined = pd.read_csv(\"./data/combined.csv\",\n",
    "                        parse_dates=[0], index_col=0)\n",
    "combined"
   ]
  },
  {
   "cell_type": "markdown",
   "metadata": {},
   "source": [
    "# Prediction of wind power generation based on weather data"
   ]
  },
  {
   "cell_type": "code",
   "execution_count": 5,
   "metadata": {},
   "outputs": [
    {
     "data": {
      "text/html": [
       "<div>\n",
       "<style scoped>\n",
       "    .dataframe tbody tr th:only-of-type {\n",
       "        vertical-align: middle;\n",
       "    }\n",
       "\n",
       "    .dataframe tbody tr th {\n",
       "        vertical-align: top;\n",
       "    }\n",
       "\n",
       "    .dataframe thead th {\n",
       "        text-align: right;\n",
       "    }\n",
       "</style>\n",
       "<table border=\"1\" class=\"dataframe\">\n",
       "  <thead>\n",
       "    <tr style=\"text-align: right;\">\n",
       "      <th></th>\n",
       "      <th>wind_generation_actual</th>\n",
       "      <th>wind_capacity</th>\n",
       "      <th>windspeed_10m</th>\n",
       "      <th>radiation_direct_horizontal</th>\n",
       "      <th>radiation_diffuse_horizontal</th>\n",
       "      <th>irradiance_surface</th>\n",
       "      <th>irradiance_toa</th>\n",
       "      <th>precipitation</th>\n",
       "      <th>snowfall</th>\n",
       "      <th>cloud_cover</th>\n",
       "      <th>air_density</th>\n",
       "    </tr>\n",
       "  </thead>\n",
       "  <tbody>\n",
       "    <tr>\n",
       "      <th>2014-01-01 00:00:00+00:00</th>\n",
       "      <td>8086.0</td>\n",
       "      <td>32425</td>\n",
       "      <td>4.981596</td>\n",
       "      <td>0.0</td>\n",
       "      <td>0.0</td>\n",
       "      <td>0.0</td>\n",
       "      <td>0.0</td>\n",
       "      <td>0.0364</td>\n",
       "      <td>0.0056</td>\n",
       "      <td>0.9562</td>\n",
       "      <td>1.2539</td>\n",
       "    </tr>\n",
       "    <tr>\n",
       "      <th>2014-01-01 01:00:00+00:00</th>\n",
       "      <td>8803.0</td>\n",
       "      <td>32425</td>\n",
       "      <td>4.932105</td>\n",
       "      <td>0.0</td>\n",
       "      <td>0.0</td>\n",
       "      <td>0.0</td>\n",
       "      <td>0.0</td>\n",
       "      <td>0.0449</td>\n",
       "      <td>0.0074</td>\n",
       "      <td>0.9672</td>\n",
       "      <td>1.2535</td>\n",
       "    </tr>\n",
       "    <tr>\n",
       "      <th>2014-01-01 02:00:00+00:00</th>\n",
       "      <td>8970.0</td>\n",
       "      <td>32425</td>\n",
       "      <td>4.865019</td>\n",
       "      <td>0.0</td>\n",
       "      <td>0.0</td>\n",
       "      <td>0.0</td>\n",
       "      <td>0.0</td>\n",
       "      <td>0.0513</td>\n",
       "      <td>0.0129</td>\n",
       "      <td>0.9733</td>\n",
       "      <td>1.2530</td>\n",
       "    </tr>\n",
       "    <tr>\n",
       "      <th>2014-01-01 03:00:00+00:00</th>\n",
       "      <td>8510.0</td>\n",
       "      <td>32425</td>\n",
       "      <td>4.842338</td>\n",
       "      <td>0.0</td>\n",
       "      <td>0.0</td>\n",
       "      <td>0.0</td>\n",
       "      <td>0.0</td>\n",
       "      <td>0.0544</td>\n",
       "      <td>0.0140</td>\n",
       "      <td>0.9651</td>\n",
       "      <td>1.2523</td>\n",
       "    </tr>\n",
       "    <tr>\n",
       "      <th>2014-01-01 04:00:00+00:00</th>\n",
       "      <td>8360.0</td>\n",
       "      <td>32425</td>\n",
       "      <td>4.772505</td>\n",
       "      <td>0.0</td>\n",
       "      <td>0.0</td>\n",
       "      <td>0.0</td>\n",
       "      <td>0.0</td>\n",
       "      <td>0.0512</td>\n",
       "      <td>0.0144</td>\n",
       "      <td>0.9370</td>\n",
       "      <td>1.2516</td>\n",
       "    </tr>\n",
       "    <tr>\n",
       "      <th>...</th>\n",
       "      <td>...</td>\n",
       "      <td>...</td>\n",
       "      <td>...</td>\n",
       "      <td>...</td>\n",
       "      <td>...</td>\n",
       "      <td>...</td>\n",
       "      <td>...</td>\n",
       "      <td>...</td>\n",
       "      <td>...</td>\n",
       "      <td>...</td>\n",
       "      <td>...</td>\n",
       "    </tr>\n",
       "    <tr>\n",
       "      <th>2016-12-31 19:00:00+00:00</th>\n",
       "      <td>15303.0</td>\n",
       "      <td>49021</td>\n",
       "      <td>4.212916</td>\n",
       "      <td>0.0</td>\n",
       "      <td>0.0</td>\n",
       "      <td>0.0</td>\n",
       "      <td>0.0</td>\n",
       "      <td>0.0098</td>\n",
       "      <td>0.0017</td>\n",
       "      <td>0.5102</td>\n",
       "      <td>1.2751</td>\n",
       "    </tr>\n",
       "    <tr>\n",
       "      <th>2016-12-31 20:00:00+00:00</th>\n",
       "      <td>15354.0</td>\n",
       "      <td>49021</td>\n",
       "      <td>4.287475</td>\n",
       "      <td>0.0</td>\n",
       "      <td>0.0</td>\n",
       "      <td>0.0</td>\n",
       "      <td>0.0</td>\n",
       "      <td>0.0099</td>\n",
       "      <td>0.0020</td>\n",
       "      <td>0.5235</td>\n",
       "      <td>1.2756</td>\n",
       "    </tr>\n",
       "    <tr>\n",
       "      <th>2016-12-31 21:00:00+00:00</th>\n",
       "      <td>14848.0</td>\n",
       "      <td>49021</td>\n",
       "      <td>4.296530</td>\n",
       "      <td>0.0</td>\n",
       "      <td>0.0</td>\n",
       "      <td>0.0</td>\n",
       "      <td>0.0</td>\n",
       "      <td>0.0093</td>\n",
       "      <td>0.0020</td>\n",
       "      <td>0.5248</td>\n",
       "      <td>1.2759</td>\n",
       "    </tr>\n",
       "    <tr>\n",
       "      <th>2016-12-31 22:00:00+00:00</th>\n",
       "      <td>15056.0</td>\n",
       "      <td>49021</td>\n",
       "      <td>4.419977</td>\n",
       "      <td>0.0</td>\n",
       "      <td>0.0</td>\n",
       "      <td>0.0</td>\n",
       "      <td>0.0</td>\n",
       "      <td>0.0093</td>\n",
       "      <td>0.0021</td>\n",
       "      <td>0.5319</td>\n",
       "      <td>1.2760</td>\n",
       "    </tr>\n",
       "    <tr>\n",
       "      <th>2016-12-31 23:00:00+00:00</th>\n",
       "      <td>15422.0</td>\n",
       "      <td>49025</td>\n",
       "      <td>4.461064</td>\n",
       "      <td>0.0</td>\n",
       "      <td>0.0</td>\n",
       "      <td>0.0</td>\n",
       "      <td>0.0</td>\n",
       "      <td>0.0103</td>\n",
       "      <td>0.0023</td>\n",
       "      <td>0.5089</td>\n",
       "      <td>1.2758</td>\n",
       "    </tr>\n",
       "  </tbody>\n",
       "</table>\n",
       "<p>26287 rows × 11 columns</p>\n",
       "</div>"
      ],
      "text/plain": [
       "                           wind_generation_actual  wind_capacity  \\\n",
       "2014-01-01 00:00:00+00:00                  8086.0          32425   \n",
       "2014-01-01 01:00:00+00:00                  8803.0          32425   \n",
       "2014-01-01 02:00:00+00:00                  8970.0          32425   \n",
       "2014-01-01 03:00:00+00:00                  8510.0          32425   \n",
       "2014-01-01 04:00:00+00:00                  8360.0          32425   \n",
       "...                                           ...            ...   \n",
       "2016-12-31 19:00:00+00:00                 15303.0          49021   \n",
       "2016-12-31 20:00:00+00:00                 15354.0          49021   \n",
       "2016-12-31 21:00:00+00:00                 14848.0          49021   \n",
       "2016-12-31 22:00:00+00:00                 15056.0          49021   \n",
       "2016-12-31 23:00:00+00:00                 15422.0          49025   \n",
       "\n",
       "                           windspeed_10m  radiation_direct_horizontal  \\\n",
       "2014-01-01 00:00:00+00:00       4.981596                          0.0   \n",
       "2014-01-01 01:00:00+00:00       4.932105                          0.0   \n",
       "2014-01-01 02:00:00+00:00       4.865019                          0.0   \n",
       "2014-01-01 03:00:00+00:00       4.842338                          0.0   \n",
       "2014-01-01 04:00:00+00:00       4.772505                          0.0   \n",
       "...                                  ...                          ...   \n",
       "2016-12-31 19:00:00+00:00       4.212916                          0.0   \n",
       "2016-12-31 20:00:00+00:00       4.287475                          0.0   \n",
       "2016-12-31 21:00:00+00:00       4.296530                          0.0   \n",
       "2016-12-31 22:00:00+00:00       4.419977                          0.0   \n",
       "2016-12-31 23:00:00+00:00       4.461064                          0.0   \n",
       "\n",
       "                           radiation_diffuse_horizontal  irradiance_surface  \\\n",
       "2014-01-01 00:00:00+00:00                           0.0                 0.0   \n",
       "2014-01-01 01:00:00+00:00                           0.0                 0.0   \n",
       "2014-01-01 02:00:00+00:00                           0.0                 0.0   \n",
       "2014-01-01 03:00:00+00:00                           0.0                 0.0   \n",
       "2014-01-01 04:00:00+00:00                           0.0                 0.0   \n",
       "...                                                 ...                 ...   \n",
       "2016-12-31 19:00:00+00:00                           0.0                 0.0   \n",
       "2016-12-31 20:00:00+00:00                           0.0                 0.0   \n",
       "2016-12-31 21:00:00+00:00                           0.0                 0.0   \n",
       "2016-12-31 22:00:00+00:00                           0.0                 0.0   \n",
       "2016-12-31 23:00:00+00:00                           0.0                 0.0   \n",
       "\n",
       "                           irradiance_toa  precipitation  snowfall  \\\n",
       "2014-01-01 00:00:00+00:00             0.0         0.0364    0.0056   \n",
       "2014-01-01 01:00:00+00:00             0.0         0.0449    0.0074   \n",
       "2014-01-01 02:00:00+00:00             0.0         0.0513    0.0129   \n",
       "2014-01-01 03:00:00+00:00             0.0         0.0544    0.0140   \n",
       "2014-01-01 04:00:00+00:00             0.0         0.0512    0.0144   \n",
       "...                                   ...            ...       ...   \n",
       "2016-12-31 19:00:00+00:00             0.0         0.0098    0.0017   \n",
       "2016-12-31 20:00:00+00:00             0.0         0.0099    0.0020   \n",
       "2016-12-31 21:00:00+00:00             0.0         0.0093    0.0020   \n",
       "2016-12-31 22:00:00+00:00             0.0         0.0093    0.0021   \n",
       "2016-12-31 23:00:00+00:00             0.0         0.0103    0.0023   \n",
       "\n",
       "                           cloud_cover  air_density  \n",
       "2014-01-01 00:00:00+00:00       0.9562       1.2539  \n",
       "2014-01-01 01:00:00+00:00       0.9672       1.2535  \n",
       "2014-01-01 02:00:00+00:00       0.9733       1.2530  \n",
       "2014-01-01 03:00:00+00:00       0.9651       1.2523  \n",
       "2014-01-01 04:00:00+00:00       0.9370       1.2516  \n",
       "...                                ...          ...  \n",
       "2016-12-31 19:00:00+00:00       0.5102       1.2751  \n",
       "2016-12-31 20:00:00+00:00       0.5235       1.2756  \n",
       "2016-12-31 21:00:00+00:00       0.5248       1.2759  \n",
       "2016-12-31 22:00:00+00:00       0.5319       1.2760  \n",
       "2016-12-31 23:00:00+00:00       0.5089       1.2758  \n",
       "\n",
       "[26287 rows x 11 columns]"
      ]
     },
     "execution_count": 5,
     "metadata": {},
     "output_type": "execute_result"
    }
   ],
   "source": [
    "wind = combined[['wind_generation_actual', 'wind_capacity', 'windspeed_10m', 'radiation_direct_horizontal', 'radiation_diffuse_horizontal', 'irradiance_surface', 'irradiance_toa', 'precipitation', 'snowfall', 'cloud_cover', 'air_density']]\n",
    "X_wind = wind[['wind_capacity','windspeed_10m', 'radiation_direct_horizontal', 'radiation_diffuse_horizontal', 'irradiance_surface', 'irradiance_toa', 'precipitation', 'snowfall', 'cloud_cover', 'air_density']]\n",
    "y_wind = wind['wind_generation_actual']\n",
    "wind"
   ]
  },
  {
   "cell_type": "markdown",
   "metadata": {},
   "source": [
    "# Split the dataset into training and test datasets"
   ]
  },
  {
   "cell_type": "code",
   "execution_count": 6,
   "metadata": {},
   "outputs": [],
   "source": [
    "# We will train the machine learning algorithms on the data for the years 2014 and 2015\n",
    "X_train_master = X_wind.loc[(X_wind.index >= \"2014-01-01 00:00:00\") & (X_wind.index <= \"2015-12-31 23:00:00\")]\n",
    "y_train = y_wind.loc[(X_wind.index >= \"2014-01-01 00:00:00\") & (X_wind.index <= \"2015-12-31 23:00:00\")]\n",
    "\n",
    "# We will test the models on the data for the year 2016\n",
    "X_test_master = X_wind.loc[(X_wind.index >= \"2016-01-01 00:00:00\") & (X_wind.index <= \"2016-12-31 23:00:00\")]\n",
    "y_test = y_wind.loc[(X_wind.index >= \"2016-01-01 00:00:00\") & (X_wind.index <= \"2016-12-31 23:00:00\")]"
   ]
  },
  {
   "cell_type": "markdown",
   "metadata": {},
   "source": [
    "# 1. Predicting wind power generation using the LinearRegression model"
   ]
  },
  {
   "cell_type": "markdown",
   "metadata": {},
   "source": [
    "## 1.1 Training and validation of the LinearRegression model for all features (n=10)\n",
    "\n",
    "### Cross-validation\n",
    "In order to evaluate the performance of the algorithm, we divide the data using a procedure called cross-validation (cv for short). For the k-fold cv, the dataset is split into k smaller sets or ‘folds’, the model is trained in k-1 of those folds, and the resulting model is validated on the remaining part of the data. The performance measure provided by the cv is then the average of the performance measure computed in each experiment. \n",
    "In the code below, we use cross_val_score from sklearn.model_selection, with number of folds cv=5\n",
    "\n",
    "The performance measure that LinearRegression gives by default is the coefficient of determination R² of the prediction. It measures how well the predictions approximate the true values."
   ]
  },
  {
   "cell_type": "code",
   "execution_count": 6,
   "metadata": {},
   "outputs": [],
   "source": [
    "selected_features = ['wind_capacity',\n",
    "                     'windspeed_10m',\n",
    "                     'radiation_direct_horizontal',\n",
    "                     'radiation_diffuse_horizontal',\n",
    "                     'irradiance_surface',\n",
    "                     'irradiance_toa',\n",
    "                     'precipitation',\n",
    "                     'snowfall',\n",
    "                     'cloud_cover',\n",
    "                     'air_density']\n",
    "\n",
    "X_train = X_train_master[selected_features]\n",
    "X_test = X_test_master[selected_features]"
   ]
  },
  {
   "cell_type": "code",
   "execution_count": 7,
   "metadata": {},
   "outputs": [
    {
     "name": "stdout",
     "output_type": "stream",
     "text": [
      "The average score for the LinearRegression model (training) is: 0.800\n",
      "The R2 score of the LinearRegression model (test) is: 0.805\n"
     ]
    }
   ],
   "source": [
    "# Frist, we train the model for the prediction for wind power generation based on weather data.\n",
    "lr = LinearRegression()\n",
    "scores = cross_val_score(lr, X_train, y_train, cv=5)\n",
    "print(f\"The average score for the LinearRegression model (training) is: %0.3f\" % np.mean(scores))\n",
    "\n",
    "# Second, we validate the model for the data for the year 2016.\n",
    "lr.fit(X_train, y_train)\n",
    "predictions_lr = lr.predict(X_test)\n",
    "r2 = r2_score(y_test, predictions_lr)\n",
    "print(f\"The R2 score of the LinearRegression model (test) is: %0.3f\" % r2)"
   ]
  },
  {
   "cell_type": "code",
   "execution_count": 8,
   "metadata": {},
   "outputs": [
    {
     "data": {
      "text/html": [
       "<table class=\"simpletable\">\n",
       "<caption>OLS Regression Results</caption>\n",
       "<tr>\n",
       "  <th>Dep. Variable:</th>    <td>wind_generation_actual</td> <th>  R-squared (uncentered):</th>       <td>   0.943</td>  \n",
       "</tr>\n",
       "<tr>\n",
       "  <th>Model:</th>                      <td>OLS</td>          <th>  Adj. R-squared (uncentered):</th>  <td>   0.943</td>  \n",
       "</tr>\n",
       "<tr>\n",
       "  <th>Method:</th>                <td>Least Squares</td>     <th>  F-statistic:       </th>           <td>2.896e+04</td> \n",
       "</tr>\n",
       "<tr>\n",
       "  <th>Date:</th>                <td>Thu, 21 May 2020</td>    <th>  Prob (F-statistic):</th>            <td>  0.00</td>   \n",
       "</tr>\n",
       "<tr>\n",
       "  <th>Time:</th>                    <td>03:01:48</td>        <th>  Log-Likelihood:    </th>          <td>-1.6066e+05</td>\n",
       "</tr>\n",
       "<tr>\n",
       "  <th>No. Observations:</th>         <td> 17503</td>         <th>  AIC:               </th>           <td>3.213e+05</td> \n",
       "</tr>\n",
       "<tr>\n",
       "  <th>Df Residuals:</th>             <td> 17493</td>         <th>  BIC:               </th>           <td>3.214e+05</td> \n",
       "</tr>\n",
       "<tr>\n",
       "  <th>Df Model:</th>                 <td>    10</td>         <th>                     </th>               <td> </td>     \n",
       "</tr>\n",
       "<tr>\n",
       "  <th>Covariance Type:</th>         <td>nonrobust</td>       <th>                     </th>               <td> </td>     \n",
       "</tr>\n",
       "</table>\n",
       "<table class=\"simpletable\">\n",
       "<tr>\n",
       "                <td></td>                  <th>coef</th>     <th>std err</th>      <th>t</th>      <th>P>|t|</th>  <th>[0.025</th>    <th>0.975]</th>  \n",
       "</tr>\n",
       "<tr>\n",
       "  <th>wind_capacity</th>                <td>    0.3473</td> <td>    0.005</td> <td>   67.610</td> <td> 0.000</td> <td>    0.337</td> <td>    0.357</td>\n",
       "</tr>\n",
       "<tr>\n",
       "  <th>windspeed_10m</th>                <td> 3284.8208</td> <td>   10.414</td> <td>  315.418</td> <td> 0.000</td> <td> 3264.408</td> <td> 3305.234</td>\n",
       "</tr>\n",
       "<tr>\n",
       "  <th>radiation_direct_horizontal</th>  <td>   -4.0211</td> <td>    0.378</td> <td>  -10.626</td> <td> 0.000</td> <td>   -4.763</td> <td>   -3.279</td>\n",
       "</tr>\n",
       "<tr>\n",
       "  <th>radiation_diffuse_horizontal</th> <td>  -12.5106</td> <td>    0.609</td> <td>  -20.533</td> <td> 0.000</td> <td>  -13.705</td> <td>  -11.316</td>\n",
       "</tr>\n",
       "<tr>\n",
       "  <th>irradiance_surface</th>           <td>    5.8832</td> <td>    0.741</td> <td>    7.935</td> <td> 0.000</td> <td>    4.430</td> <td>    7.336</td>\n",
       "</tr>\n",
       "<tr>\n",
       "  <th>irradiance_toa</th>               <td>   -3.9745</td> <td>    0.442</td> <td>   -9.000</td> <td> 0.000</td> <td>   -4.840</td> <td>   -3.109</td>\n",
       "</tr>\n",
       "<tr>\n",
       "  <th>precipitation</th>                <td>-3805.8757</td> <td>  162.323</td> <td>  -23.446</td> <td> 0.000</td> <td>-4124.045</td> <td>-3487.706</td>\n",
       "</tr>\n",
       "<tr>\n",
       "  <th>snowfall</th>                     <td>-7831.5211</td> <td>  796.997</td> <td>   -9.826</td> <td> 0.000</td> <td>-9393.714</td> <td>-6269.328</td>\n",
       "</tr>\n",
       "<tr>\n",
       "  <th>cloud_cover</th>                  <td> 1643.0857</td> <td>   89.491</td> <td>   18.360</td> <td> 0.000</td> <td> 1467.675</td> <td> 1818.496</td>\n",
       "</tr>\n",
       "<tr>\n",
       "  <th>air_density</th>                  <td>-1.536e+04</td> <td>  168.745</td> <td>  -91.008</td> <td> 0.000</td> <td>-1.57e+04</td> <td> -1.5e+04</td>\n",
       "</tr>\n",
       "</table>\n",
       "<table class=\"simpletable\">\n",
       "<tr>\n",
       "  <th>Omnibus:</th>       <td>477.995</td> <th>  Durbin-Watson:     </th> <td>   0.086</td> \n",
       "</tr>\n",
       "<tr>\n",
       "  <th>Prob(Omnibus):</th> <td> 0.000</td>  <th>  Jarque-Bera (JB):  </th> <td>1037.368</td> \n",
       "</tr>\n",
       "<tr>\n",
       "  <th>Skew:</th>          <td> 0.150</td>  <th>  Prob(JB):          </th> <td>5.48e-226</td>\n",
       "</tr>\n",
       "<tr>\n",
       "  <th>Kurtosis:</th>      <td> 4.154</td>  <th>  Cond. No.          </th> <td>1.69e+06</td> \n",
       "</tr>\n",
       "</table><br/><br/>Warnings:<br/>[1] Standard Errors assume that the covariance matrix of the errors is correctly specified.<br/>[2] The condition number is large, 1.69e+06. This might indicate that there are<br/>strong multicollinearity or other numerical problems."
      ],
      "text/plain": [
       "<class 'statsmodels.iolib.summary.Summary'>\n",
       "\"\"\"\n",
       "                                   OLS Regression Results                                  \n",
       "===========================================================================================\n",
       "Dep. Variable:     wind_generation_actual   R-squared (uncentered):                   0.943\n",
       "Model:                                OLS   Adj. R-squared (uncentered):              0.943\n",
       "Method:                     Least Squares   F-statistic:                          2.896e+04\n",
       "Date:                    Thu, 21 May 2020   Prob (F-statistic):                        0.00\n",
       "Time:                            03:01:48   Log-Likelihood:                     -1.6066e+05\n",
       "No. Observations:                   17503   AIC:                                  3.213e+05\n",
       "Df Residuals:                       17493   BIC:                                  3.214e+05\n",
       "Df Model:                              10                                                  \n",
       "Covariance Type:                nonrobust                                                  \n",
       "================================================================================================\n",
       "                                   coef    std err          t      P>|t|      [0.025      0.975]\n",
       "------------------------------------------------------------------------------------------------\n",
       "wind_capacity                    0.3473      0.005     67.610      0.000       0.337       0.357\n",
       "windspeed_10m                 3284.8208     10.414    315.418      0.000    3264.408    3305.234\n",
       "radiation_direct_horizontal     -4.0211      0.378    -10.626      0.000      -4.763      -3.279\n",
       "radiation_diffuse_horizontal   -12.5106      0.609    -20.533      0.000     -13.705     -11.316\n",
       "irradiance_surface               5.8832      0.741      7.935      0.000       4.430       7.336\n",
       "irradiance_toa                  -3.9745      0.442     -9.000      0.000      -4.840      -3.109\n",
       "precipitation                -3805.8757    162.323    -23.446      0.000   -4124.045   -3487.706\n",
       "snowfall                     -7831.5211    796.997     -9.826      0.000   -9393.714   -6269.328\n",
       "cloud_cover                   1643.0857     89.491     18.360      0.000    1467.675    1818.496\n",
       "air_density                  -1.536e+04    168.745    -91.008      0.000   -1.57e+04    -1.5e+04\n",
       "==============================================================================\n",
       "Omnibus:                      477.995   Durbin-Watson:                   0.086\n",
       "Prob(Omnibus):                  0.000   Jarque-Bera (JB):             1037.368\n",
       "Skew:                           0.150   Prob(JB):                    5.48e-226\n",
       "Kurtosis:                       4.154   Cond. No.                     1.69e+06\n",
       "==============================================================================\n",
       "\n",
       "Warnings:\n",
       "[1] Standard Errors assume that the covariance matrix of the errors is correctly specified.\n",
       "[2] The condition number is large, 1.69e+06. This might indicate that there are\n",
       "strong multicollinearity or other numerical problems.\n",
       "\"\"\""
      ]
     },
     "execution_count": 8,
     "metadata": {},
     "output_type": "execute_result"
    }
   ],
   "source": [
    "# Further information on the LinearRegression model\n",
    "OLS(y_train, X_train).fit().summary()"
   ]
  },
  {
   "cell_type": "code",
   "execution_count": 10,
   "metadata": {},
   "outputs": [
    {
     "data": {
      "image/png": "[encoded data removed]",
      "text/plain": [
       "<Figure size 864x576 with 2 Axes>"
      ]
     },
     "metadata": {
      "needs_background": "light"
     },
     "output_type": "display_data"
    }
   ],
   "source": [
    "# Let's check for multicollinearity amongst the different features\n",
    "from rfpimp import plot_corr_heatmap\n",
    "viz = plot_corr_heatmap(X_train, figsize=(12,8))\n",
    "viz.view()"
   ]
  },
  {
   "cell_type": "markdown",
   "metadata": {},
   "source": [
    "- It seems that there is a strong multicollinearity between the different features for solar radiation/irradiance.\n",
    "- We choose to only use `irradiance_surface` to feature solar radiation/irrandiance and to drop the other related features (see below why).\n",
    "- Thus we decide to re-train and validate the models by limiting the features to: \n",
    "#### `wind_capacity`,`windspeed_10m`, `irradiance_surface`, `precipitation`, `snowfall`, `cloud_cover` and `air_density`\n",
    "#### `irradiance_surface` (only)"
   ]
  },
  {
   "cell_type": "markdown",
   "metadata": {},
   "source": [
    "## 1.2 Training and validation of the LinearRegression model for selected features (n=7)"
   ]
  },
  {
   "cell_type": "code",
   "execution_count": 11,
   "metadata": {},
   "outputs": [],
   "source": [
    "selected_features = ['wind_capacity',\n",
    "                     'windspeed_10m',\n",
    "                     'irradiance_surface',\n",
    "                     'precipitation',\n",
    "                     'snowfall',\n",
    "                     'cloud_cover',\n",
    "                     'air_density']\n",
    "\n",
    "X_train = X_train_master[selected_features]\n",
    "X_test = X_test_master[selected_features]"
   ]
  },
  {
   "cell_type": "code",
   "execution_count": 14,
   "metadata": {},
   "outputs": [
    {
     "name": "stdout",
     "output_type": "stream",
     "text": [
      "The average score for the LinearRegression model (training) is: 0.771\n",
      "The R2 score of the LinearRegression model (test) is: 0.784\n"
     ]
    }
   ],
   "source": [
    "# Frist, we train the model for the prediction for wind power generation based on weather data.\n",
    "lr = LinearRegression()\n",
    "scores = cross_val_score(lr, X_train, y_train, cv=5)\n",
    "print(f\"The average score for the LinearRegression model (training) is: %0.3f\" % np.mean(scores))\n",
    "\n",
    "# Second, we validate the model for the data for the year 2016.\n",
    "lr.fit(X_train, y_train)\n",
    "predictions_lr = lr.predict(X_test)\n",
    "r2 = r2_score(y_test, predictions_lr)\n",
    "print(f\"The R2 score of the LinearRegression model (test) is: %0.3f\" % r2)"
   ]
  },
  {
   "cell_type": "markdown",
   "metadata": {},
   "source": [
    "#### While dropping 3 features for wind radiation/irradiance, the goodness of fit of this model is no signicantly different than for the model in 1.1 with 10 features."
   ]
  },
  {
   "cell_type": "code",
   "execution_count": 13,
   "metadata": {},
   "outputs": [
    {
     "data": {
      "text/html": [
       "<table class=\"simpletable\">\n",
       "<caption>OLS Regression Results</caption>\n",
       "<tr>\n",
       "  <th>Dep. Variable:</th>    <td>wind_generation_actual</td> <th>  R-squared (uncentered):</th>       <td>   0.936</td>  \n",
       "</tr>\n",
       "<tr>\n",
       "  <th>Model:</th>                      <td>OLS</td>          <th>  Adj. R-squared (uncentered):</th>  <td>   0.936</td>  \n",
       "</tr>\n",
       "<tr>\n",
       "  <th>Method:</th>                <td>Least Squares</td>     <th>  F-statistic:       </th>           <td>3.638e+04</td> \n",
       "</tr>\n",
       "<tr>\n",
       "  <th>Date:</th>                <td>Thu, 21 May 2020</td>    <th>  Prob (F-statistic):</th>            <td>  0.00</td>   \n",
       "</tr>\n",
       "<tr>\n",
       "  <th>Time:</th>                    <td>03:03:15</td>        <th>  Log-Likelihood:    </th>          <td>-1.6172e+05</td>\n",
       "</tr>\n",
       "<tr>\n",
       "  <th>No. Observations:</th>         <td> 17503</td>         <th>  AIC:               </th>           <td>3.235e+05</td> \n",
       "</tr>\n",
       "<tr>\n",
       "  <th>Df Residuals:</th>             <td> 17496</td>         <th>  BIC:               </th>           <td>3.235e+05</td> \n",
       "</tr>\n",
       "<tr>\n",
       "  <th>Df Model:</th>                 <td>     7</td>         <th>                     </th>               <td> </td>     \n",
       "</tr>\n",
       "<tr>\n",
       "  <th>Covariance Type:</th>         <td>nonrobust</td>       <th>                     </th>               <td> </td>     \n",
       "</tr>\n",
       "</table>\n",
       "<table class=\"simpletable\">\n",
       "<tr>\n",
       "           <td></td>             <th>coef</th>     <th>std err</th>      <th>t</th>      <th>P>|t|</th>  <th>[0.025</th>    <th>0.975]</th>  \n",
       "</tr>\n",
       "<tr>\n",
       "  <th>wind_capacity</th>      <td>    0.3451</td> <td>    0.005</td> <td>   63.325</td> <td> 0.000</td> <td>    0.334</td> <td>    0.356</td>\n",
       "</tr>\n",
       "<tr>\n",
       "  <th>windspeed_10m</th>      <td> 3233.9058</td> <td>   10.990</td> <td>  294.256</td> <td> 0.000</td> <td> 3212.364</td> <td> 3255.448</td>\n",
       "</tr>\n",
       "<tr>\n",
       "  <th>irradiance_surface</th> <td>   -7.2457</td> <td>    0.091</td> <td>  -79.353</td> <td> 0.000</td> <td>   -7.425</td> <td>   -7.067</td>\n",
       "</tr>\n",
       "<tr>\n",
       "  <th>precipitation</th>      <td>-5083.4499</td> <td>  165.449</td> <td>  -30.725</td> <td> 0.000</td> <td>-5407.747</td> <td>-4759.153</td>\n",
       "</tr>\n",
       "<tr>\n",
       "  <th>snowfall</th>           <td>-4257.4093</td> <td>  842.185</td> <td>   -5.055</td> <td> 0.000</td> <td>-5908.176</td> <td>-2606.643</td>\n",
       "</tr>\n",
       "<tr>\n",
       "  <th>cloud_cover</th>        <td>  659.9448</td> <td>   91.096</td> <td>    7.245</td> <td> 0.000</td> <td>  481.388</td> <td>  838.502</td>\n",
       "</tr>\n",
       "<tr>\n",
       "  <th>air_density</th>        <td>-1.482e+04</td> <td>  178.788</td> <td>  -82.866</td> <td> 0.000</td> <td>-1.52e+04</td> <td>-1.45e+04</td>\n",
       "</tr>\n",
       "</table>\n",
       "<table class=\"simpletable\">\n",
       "<tr>\n",
       "  <th>Omnibus:</th>       <td>396.316</td> <th>  Durbin-Watson:     </th> <td>   0.096</td> \n",
       "</tr>\n",
       "<tr>\n",
       "  <th>Prob(Omnibus):</th> <td> 0.000</td>  <th>  Jarque-Bera (JB):  </th> <td> 866.948</td> \n",
       "</tr>\n",
       "<tr>\n",
       "  <th>Skew:</th>          <td> 0.082</td>  <th>  Prob(JB):          </th> <td>5.56e-189</td>\n",
       "</tr>\n",
       "<tr>\n",
       "  <th>Kurtosis:</th>      <td> 4.078</td>  <th>  Cond. No.          </th> <td>1.68e+06</td> \n",
       "</tr>\n",
       "</table><br/><br/>Warnings:<br/>[1] Standard Errors assume that the covariance matrix of the errors is correctly specified.<br/>[2] The condition number is large, 1.68e+06. This might indicate that there are<br/>strong multicollinearity or other numerical problems."
      ],
      "text/plain": [
       "<class 'statsmodels.iolib.summary.Summary'>\n",
       "\"\"\"\n",
       "                                   OLS Regression Results                                  \n",
       "===========================================================================================\n",
       "Dep. Variable:     wind_generation_actual   R-squared (uncentered):                   0.936\n",
       "Model:                                OLS   Adj. R-squared (uncentered):              0.936\n",
       "Method:                     Least Squares   F-statistic:                          3.638e+04\n",
       "Date:                    Thu, 21 May 2020   Prob (F-statistic):                        0.00\n",
       "Time:                            03:03:15   Log-Likelihood:                     -1.6172e+05\n",
       "No. Observations:                   17503   AIC:                                  3.235e+05\n",
       "Df Residuals:                       17496   BIC:                                  3.235e+05\n",
       "Df Model:                               7                                                  \n",
       "Covariance Type:                nonrobust                                                  \n",
       "======================================================================================\n",
       "                         coef    std err          t      P>|t|      [0.025      0.975]\n",
       "--------------------------------------------------------------------------------------\n",
       "wind_capacity          0.3451      0.005     63.325      0.000       0.334       0.356\n",
       "windspeed_10m       3233.9058     10.990    294.256      0.000    3212.364    3255.448\n",
       "irradiance_surface    -7.2457      0.091    -79.353      0.000      -7.425      -7.067\n",
       "precipitation      -5083.4499    165.449    -30.725      0.000   -5407.747   -4759.153\n",
       "snowfall           -4257.4093    842.185     -5.055      0.000   -5908.176   -2606.643\n",
       "cloud_cover          659.9448     91.096      7.245      0.000     481.388     838.502\n",
       "air_density        -1.482e+04    178.788    -82.866      0.000   -1.52e+04   -1.45e+04\n",
       "==============================================================================\n",
       "Omnibus:                      396.316   Durbin-Watson:                   0.096\n",
       "Prob(Omnibus):                  0.000   Jarque-Bera (JB):              866.948\n",
       "Skew:                           0.082   Prob(JB):                    5.56e-189\n",
       "Kurtosis:                       4.078   Cond. No.                     1.68e+06\n",
       "==============================================================================\n",
       "\n",
       "Warnings:\n",
       "[1] Standard Errors assume that the covariance matrix of the errors is correctly specified.\n",
       "[2] The condition number is large, 1.68e+06. This might indicate that there are\n",
       "strong multicollinearity or other numerical problems.\n",
       "\"\"\""
      ]
     },
     "execution_count": 13,
     "metadata": {},
     "output_type": "execute_result"
    }
   ],
   "source": [
    "# Further information on the LinearRegression model\n",
    "OLS(y_train, X_train).fit().summary()"
   ]
  },
  {
   "cell_type": "markdown",
   "metadata": {},
   "source": [
    "## 1.3 Training and validation of the LinearRegression model for selected features (n=1)"
   ]
  },
  {
   "cell_type": "code",
   "execution_count": 15,
   "metadata": {},
   "outputs": [],
   "source": [
    "selected_features = ['windspeed_10m']\n",
    "\n",
    "X_train = X_train_master[selected_features]\n",
    "X_test = X_test_master[selected_features]"
   ]
  },
  {
   "cell_type": "code",
   "execution_count": 16,
   "metadata": {},
   "outputs": [
    {
     "name": "stdout",
     "output_type": "stream",
     "text": [
      "The average score for the LinearRegression model (training) is: 0.628\n",
      "The R2 score of the LinearRegression model (test) is: 0.645\n"
     ]
    }
   ],
   "source": [
    "# Frist, we train the model for the prediction for wind power generation based on weather data.\n",
    "lr = LinearRegression()\n",
    "scores = cross_val_score(lr, X_train, y_train, cv=5)\n",
    "print(f\"The average score for the LinearRegression model (training) is: %0.3f\" % np.mean(scores))\n",
    "\n",
    "# Second, we validate the model for the data for the year 2016.\n",
    "lr.fit(X_train, y_train)\n",
    "predictions_lr = lr.predict(X_test)\n",
    "r2 = r2_score(y_test, predictions_lr)\n",
    "print(f\"The R2 score of the LinearRegression model (test) is: %0.3f\" % r2)"
   ]
  },
  {
   "cell_type": "code",
   "execution_count": 17,
   "metadata": {},
   "outputs": [
    {
     "data": {
      "text/html": [
       "<table class=\"simpletable\">\n",
       "<caption>OLS Regression Results</caption>\n",
       "<tr>\n",
       "  <th>Dep. Variable:</th>    <td>wind_generation_actual</td> <th>  R-squared (uncentered):</th>       <td>   0.844</td>  \n",
       "</tr>\n",
       "<tr>\n",
       "  <th>Model:</th>                      <td>OLS</td>          <th>  Adj. R-squared (uncentered):</th>  <td>   0.844</td>  \n",
       "</tr>\n",
       "<tr>\n",
       "  <th>Method:</th>                <td>Least Squares</td>     <th>  F-statistic:       </th>           <td>9.489e+04</td> \n",
       "</tr>\n",
       "<tr>\n",
       "  <th>Date:</th>                <td>Thu, 21 May 2020</td>    <th>  Prob (F-statistic):</th>            <td>  0.00</td>   \n",
       "</tr>\n",
       "<tr>\n",
       "  <th>Time:</th>                    <td>03:04:40</td>        <th>  Log-Likelihood:    </th>          <td>-1.6947e+05</td>\n",
       "</tr>\n",
       "<tr>\n",
       "  <th>No. Observations:</th>         <td> 17503</td>         <th>  AIC:               </th>           <td>3.389e+05</td> \n",
       "</tr>\n",
       "<tr>\n",
       "  <th>Df Residuals:</th>             <td> 17502</td>         <th>  BIC:               </th>           <td>3.389e+05</td> \n",
       "</tr>\n",
       "<tr>\n",
       "  <th>Df Model:</th>                 <td>     1</td>         <th>                     </th>               <td> </td>     \n",
       "</tr>\n",
       "<tr>\n",
       "  <th>Covariance Type:</th>         <td>nonrobust</td>       <th>                     </th>               <td> </td>     \n",
       "</tr>\n",
       "</table>\n",
       "<table class=\"simpletable\">\n",
       "<tr>\n",
       "        <td></td>           <th>coef</th>     <th>std err</th>      <th>t</th>      <th>P>|t|</th>  <th>[0.025</th>    <th>0.975]</th>  \n",
       "</tr>\n",
       "<tr>\n",
       "  <th>windspeed_10m</th> <td> 1978.1493</td> <td>    6.422</td> <td>  308.049</td> <td> 0.000</td> <td> 1965.562</td> <td> 1990.736</td>\n",
       "</tr>\n",
       "</table>\n",
       "<table class=\"simpletable\">\n",
       "<tr>\n",
       "  <th>Omnibus:</th>       <td>3022.318</td> <th>  Durbin-Watson:     </th> <td>   0.027</td>\n",
       "</tr>\n",
       "<tr>\n",
       "  <th>Prob(Omnibus):</th>  <td> 0.000</td>  <th>  Jarque-Bera (JB):  </th> <td>4959.603</td>\n",
       "</tr>\n",
       "<tr>\n",
       "  <th>Skew:</th>           <td> 1.174</td>  <th>  Prob(JB):          </th> <td>    0.00</td>\n",
       "</tr>\n",
       "<tr>\n",
       "  <th>Kurtosis:</th>       <td> 4.137</td>  <th>  Cond. No.          </th> <td>    1.00</td>\n",
       "</tr>\n",
       "</table><br/><br/>Warnings:<br/>[1] Standard Errors assume that the covariance matrix of the errors is correctly specified."
      ],
      "text/plain": [
       "<class 'statsmodels.iolib.summary.Summary'>\n",
       "\"\"\"\n",
       "                                   OLS Regression Results                                  \n",
       "===========================================================================================\n",
       "Dep. Variable:     wind_generation_actual   R-squared (uncentered):                   0.844\n",
       "Model:                                OLS   Adj. R-squared (uncentered):              0.844\n",
       "Method:                     Least Squares   F-statistic:                          9.489e+04\n",
       "Date:                    Thu, 21 May 2020   Prob (F-statistic):                        0.00\n",
       "Time:                            03:04:40   Log-Likelihood:                     -1.6947e+05\n",
       "No. Observations:                   17503   AIC:                                  3.389e+05\n",
       "Df Residuals:                       17502   BIC:                                  3.389e+05\n",
       "Df Model:                               1                                                  \n",
       "Covariance Type:                nonrobust                                                  \n",
       "=================================================================================\n",
       "                    coef    std err          t      P>|t|      [0.025      0.975]\n",
       "---------------------------------------------------------------------------------\n",
       "windspeed_10m  1978.1493      6.422    308.049      0.000    1965.562    1990.736\n",
       "==============================================================================\n",
       "Omnibus:                     3022.318   Durbin-Watson:                   0.027\n",
       "Prob(Omnibus):                  0.000   Jarque-Bera (JB):             4959.603\n",
       "Skew:                           1.174   Prob(JB):                         0.00\n",
       "Kurtosis:                       4.137   Cond. No.                         1.00\n",
       "==============================================================================\n",
       "\n",
       "Warnings:\n",
       "[1] Standard Errors assume that the covariance matrix of the errors is correctly specified.\n",
       "\"\"\""
      ]
     },
     "execution_count": 17,
     "metadata": {},
     "output_type": "execute_result"
    }
   ],
   "source": [
    "# Further information on the LinearRegression model\n",
    "OLS(y_train, X_train).fit().summary()"
   ]
  },
  {
   "cell_type": "markdown",
   "metadata": {},
   "source": [
    "#### By using only the feature `windspeed_10m`, the LinearRegression model could not achieve a satisfying goodness of fit."
   ]
  },
  {
   "cell_type": "markdown",
   "metadata": {},
   "source": [
    "# 2. Predicting wind power generation using the DecisionTreeRegression model"
   ]
  },
  {
   "cell_type": "markdown",
   "metadata": {},
   "source": [
    "## 2.1 Training and validation of the DecisionTreeRegression model for all features (n=10)"
   ]
  },
  {
   "cell_type": "code",
   "execution_count": 18,
   "metadata": {},
   "outputs": [],
   "source": [
    "selected_features = ['wind_capacity',\n",
    "                     'windspeed_10m',\n",
    "                     'radiation_direct_horizontal',\n",
    "                     'radiation_diffuse_horizontal',\n",
    "                     'irradiance_surface',\n",
    "                     'irradiance_toa',\n",
    "                     'precipitation',\n",
    "                     'snowfall',\n",
    "                     'cloud_cover',\n",
    "                     'air_density']\n",
    "\n",
    "X_train = X_train_master[selected_features]\n",
    "X_test = X_test_master[selected_features]"
   ]
  },
  {
   "cell_type": "code",
   "execution_count": 19,
   "metadata": {},
   "outputs": [
    {
     "name": "stdout",
     "output_type": "stream",
     "text": [
      "The average score for the DecisionTreeRegression model (training) is: 0.724\n",
      "The R2 score of the DecisionTreeRegression model (test) is: 0.650\n"
     ]
    }
   ],
   "source": [
    "# Frist, we train the model for the prediction for wind power generation based on weather data.\n",
    "dt = DecisionTreeRegressor()\n",
    "scores = cross_val_score(dt, X_train, y_train, cv=5)\n",
    "print(f\"The average score for the DecisionTreeRegression model (training) is: %0.3f\" % np.mean(scores))\n",
    "\n",
    "# Second, we validate the model for the data for the year 2016.\n",
    "dt.fit(X_train, y_train)\n",
    "predictions_dt = dt.predict(X_test)\n",
    "r2 = r2_score(y_test, predictions_dt)\n",
    "print(f\"The R2 score of the DecisionTreeRegression model (test) is: %0.3f\" % r2)"
   ]
  },
  {
   "cell_type": "markdown",
   "metadata": {},
   "source": [
    "## 2.2 Training and validation of the DecisionTreeRegression model for selected features (n=7)"
   ]
  },
  {
   "cell_type": "code",
   "execution_count": 20,
   "metadata": {},
   "outputs": [],
   "source": [
    "selected_features = ['wind_capacity',\n",
    "                     'windspeed_10m',\n",
    "                     'irradiance_surface',\n",
    "                     'precipitation',\n",
    "                     'snowfall',\n",
    "                     'cloud_cover',\n",
    "                     'air_density']\n",
    "\n",
    "X_train = X_train_master[selected_features]\n",
    "X_test = X_test_master[selected_features]"
   ]
  },
  {
   "cell_type": "code",
   "execution_count": 21,
   "metadata": {},
   "outputs": [
    {
     "name": "stdout",
     "output_type": "stream",
     "text": [
      "The average score for the DecisionTreeRegression model (training) is: 0.683\n",
      "The R2 score of the DecisionTreeRegression model (test) is: 0.625\n"
     ]
    }
   ],
   "source": [
    "# Frist, we train the model for the prediction for solar power generation based on weather data.\n",
    "dt = DecisionTreeRegressor()\n",
    "scores = cross_val_score(dt, X_train, y_train, cv=5)\n",
    "print(f\"The average score for the DecisionTreeRegression model (training) is: %0.3f\" % np.mean(scores))\n",
    "\n",
    "# Second, we validate the model for the data for the year 2016.\n",
    "dt.fit(X_train, y_train)\n",
    "predictions_dt = dt.predict(X_test)\n",
    "r2 = r2_score(y_test, predictions_dt)\n",
    "print(f\"The R2 score of the DecisionTreeRegression model (test) is: %0.3f\" % r2)"
   ]
  },
  {
   "cell_type": "markdown",
   "metadata": {},
   "source": [
    "## 2.3 Training and validation of the DecisionTreeRegression model for selected features (n=1)"
   ]
  },
  {
   "cell_type": "code",
   "execution_count": 22,
   "metadata": {},
   "outputs": [],
   "source": [
    "selected_features = ['windspeed_10m']\n",
    "\n",
    "X_train = X_train_master[selected_features]\n",
    "X_test = X_test_master[selected_features]"
   ]
  },
  {
   "cell_type": "code",
   "execution_count": 23,
   "metadata": {},
   "outputs": [
    {
     "name": "stdout",
     "output_type": "stream",
     "text": [
      "The average score for the DecisionTreeRegression model (training) is: 0.299\n",
      "The R2 score of the DecisionTreeRegression model (test) is: 0.454\n"
     ]
    }
   ],
   "source": [
    "# Frist, we train the model for the prediction for wind power generation based on weather data.\n",
    "dt = DecisionTreeRegressor()\n",
    "scores = cross_val_score(dt, X_train, y_train, cv=5)\n",
    "print(f\"The average score for the DecisionTreeRegression model (training) is: %0.3f\" % np.mean(scores))\n",
    "\n",
    "# Second, we validate the model for the data for the year 2016.\n",
    "dt.fit(X_train, y_train)\n",
    "predictions_dt = dt.predict(X_test)\n",
    "r2 = r2_score(y_test, predictions_dt)\n",
    "print(f\"The R2 score of the DecisionTreeRegression model (test) is: %0.3f\" % r2)"
   ]
  },
  {
   "cell_type": "markdown",
   "metadata": {},
   "source": [
    "##### The DecisionTreeRegression model seems to be less effective than the LinearRegression model"
   ]
  },
  {
   "cell_type": "markdown",
   "metadata": {},
   "source": [
    "# 3. Predicting wind power generation using the RandomForestRegression model"
   ]
  },
  {
   "cell_type": "markdown",
   "metadata": {},
   "source": [
    "## 3.1 Training and validation of the RandomForestRegression model for all features (n=10)"
   ]
  },
  {
   "cell_type": "code",
   "execution_count": 25,
   "metadata": {},
   "outputs": [],
   "source": [
    "selected_features = ['wind_capacity',\n",
    "                     'windspeed_10m',\n",
    "                     'radiation_direct_horizontal',\n",
    "                     'radiation_diffuse_horizontal',\n",
    "                     'irradiance_surface',\n",
    "                     'irradiance_toa',\n",
    "                     'precipitation',\n",
    "                     'snowfall',\n",
    "                     'cloud_cover',\n",
    "                     'air_density']\n",
    "\n",
    "X_train = X_train_master[selected_features]\n",
    "X_test = X_test_master[selected_features]"
   ]
  },
  {
   "cell_type": "code",
   "execution_count": 26,
   "metadata": {},
   "outputs": [
    {
     "name": "stdout",
     "output_type": "stream",
     "text": [
      "The average score for the RandomForestRegression model (training) is: 0.842\n",
      "The R2 score of the RandomForestRegression model (test) is: 0.765\n"
     ]
    }
   ],
   "source": [
    "# Frist, we train the model for the prediction for wind power generation based on weather data.\n",
    "rf = RandomForestRegressor()\n",
    "scores = cross_val_score(rf, X_train, y_train, cv=5)\n",
    "print(f\"The average score for the RandomForestRegression model (training) is: %0.3f\" % np.mean(scores))\n",
    "\n",
    "# Second, we validate the model for the data for the year 2016.\n",
    "rf.fit(X_train, y_train)\n",
    "predictions_rf = rf.predict(X_test)\n",
    "r2 = r2_score(y_test, predictions_rf)\n",
    "print(f\"The R2 score of the RandomForestRegression model (test) is: %0.3f\" % r2)"
   ]
  },
  {
   "cell_type": "markdown",
   "metadata": {},
   "source": [
    "## 3.2 Training and validation of the RandomForestRegression model for selected features (n=7)"
   ]
  },
  {
   "cell_type": "code",
   "execution_count": 27,
   "metadata": {},
   "outputs": [],
   "source": [
    "selected_features = ['wind_capacity',\n",
    "                     'windspeed_10m',\n",
    "                     'irradiance_surface',\n",
    "                     'precipitation',\n",
    "                     'snowfall',\n",
    "                     'cloud_cover',\n",
    "                     'air_density']\n",
    "\n",
    "X_train = X_train_master[selected_features]\n",
    "X_test = X_test_master[selected_features]"
   ]
  },
  {
   "cell_type": "code",
   "execution_count": 28,
   "metadata": {},
   "outputs": [
    {
     "name": "stdout",
     "output_type": "stream",
     "text": [
      "The average score for the RandomForestRegression model (training) is: 0.827\n",
      "The R2 score of the RandomForestRegression model (test) is: 0.770\n"
     ]
    }
   ],
   "source": [
    "# Frist, we train the model for the prediction for wind power generation based on weather data.\n",
    "rf = RandomForestRegressor()\n",
    "scores = cross_val_score(rf, X_train, y_train, cv=5)\n",
    "print(f\"The average score for the RandomForestRegression model (training) is: %0.3f\" % np.mean(scores))\n",
    "\n",
    "# Second, we validate the model for the data for the year 2016.\n",
    "rf.fit(X_train, y_train)\n",
    "predictions_rf = rf.predict(X_test)\n",
    "r2 = r2_score(y_test, predictions_rf)\n",
    "print(f\"The R2 score of the RandomForestRegression model (test) is: %0.3f\" % r2)"
   ]
  },
  {
   "cell_type": "markdown",
   "metadata": {},
   "source": [
    "## 3.3 Training and validation of the RandomForestRegression model for selected features (n=1)"
   ]
  },
  {
   "cell_type": "code",
   "execution_count": 29,
   "metadata": {},
   "outputs": [],
   "source": [
    "selected_features = ['windspeed_10m']\n",
    "\n",
    "X_train = X_train_master[selected_features]\n",
    "X_test = X_test_master[selected_features]"
   ]
  },
  {
   "cell_type": "code",
   "execution_count": 30,
   "metadata": {},
   "outputs": [
    {
     "name": "stdout",
     "output_type": "stream",
     "text": [
      "The average score for the RandomForestRegression model (training) is: 0.483\n",
      "The R2 score of the RandomForestRegression model (test) is: 0.559\n"
     ]
    }
   ],
   "source": [
    "# Frist, we train the model for the prediction for wind power generation based on weather data.\n",
    "rf = RandomForestRegressor()\n",
    "scores = cross_val_score(rf, X_train, y_train, cv=5)\n",
    "print(f\"The average score for the RandomForestRegression model (training) is: %0.3f\" % np.mean(scores))\n",
    "\n",
    "# Second, we validate the model for the data for the year 2016.\n",
    "rf.fit(X_train, y_train)\n",
    "predictions_rf = rf.predict(X_test)\n",
    "r2 = r2_score(y_test, predictions_rf)\n",
    "print(f\"The R2 score of the RandomForestRegression model (test) is: %0.3f\" % r2)"
   ]
  },
  {
   "cell_type": "markdown",
   "metadata": {},
   "source": [
    "##### Besides requiring much more computing resources, the RandomForestRegression model does not seem as effective as the LinearRegression model when the sole feature `windspeed_10m` is considered for the modeling. "
   ]
  },
  {
   "cell_type": "markdown",
   "metadata": {},
   "source": [
    "## 3.3 Optimization of the RandomForestRegression model for selected features"
   ]
  },
  {
   "cell_type": "markdown",
   "metadata": {},
   "source": [
    "### 3.3.1 Model optimization by varying the number of decison trees in the RandomForestRegression model"
   ]
  },
  {
   "cell_type": "code",
   "execution_count": 31,
   "metadata": {},
   "outputs": [],
   "source": [
    "selected_features = ['wind_capacity',\n",
    "                     'windspeed_10m',\n",
    "                     'irradiance_surface',\n",
    "                     'precipitation',\n",
    "                     'snowfall',\n",
    "                     'cloud_cover',\n",
    "                     'air_density']\n",
    "\n",
    "X_train = X_train_master[selected_features]\n",
    "X_test = X_test_master[selected_features]"
   ]
  },
  {
   "cell_type": "code",
   "execution_count": 32,
   "metadata": {},
   "outputs": [
    {
     "name": "stdout",
     "output_type": "stream",
     "text": [
      "\n",
      "For a RandomForestRegression model with 2 decision trees:\n",
      "The average score for the training of the model is: 0.749\n",
      "The R2 score for the validation of the model is: 0.683\n",
      "\n",
      "For a RandomForestRegression model with 5 decision trees:\n",
      "The average score for the training of the model is: 0.804\n",
      "The R2 score for the validation of the model is: 0.759\n",
      "\n",
      "For a RandomForestRegression model with 10 decision trees:\n",
      "The average score for the training of the model is: 0.818\n",
      "The R2 score for the validation of the model is: 0.764\n",
      "\n",
      "For a RandomForestRegression model with 20 decision trees:\n",
      "The average score for the training of the model is: 0.823\n",
      "The R2 score for the validation of the model is: 0.762\n",
      "\n",
      "For a RandomForestRegression model with 50 decision trees:\n",
      "The average score for the training of the model is: 0.825\n",
      "The R2 score for the validation of the model is: 0.763\n",
      "\n",
      "For a RandomForestRegression model with 100 decision trees:\n",
      "The average score for the training of the model is: 0.827\n",
      "The R2 score for the validation of the model is: 0.763\n",
      "\n",
      "For a RandomForestRegression model with 200 decision trees:\n",
      "The average score for the training of the model is: 0.828\n",
      "The R2 score for the validation of the model is: 0.767\n"
     ]
    }
   ],
   "source": [
    "# Check the behaviour of the RandomForestRegression with the following number of decision trees\n",
    "list_no_trees = [2, 5, 10, 20, 50, 100, 200]\n",
    "\n",
    "for i in range(len(list_no_trees)):\n",
    "    rf = RandomForestRegressor(n_estimators=list_no_trees[i])\n",
    "    print(f\"\\nFor a RandomForestRegression model with {list_no_trees[i]} decision trees:\")\n",
    "    scores = cross_val_score(rf, X_train, y_train, cv=5)\n",
    "    print(f\"The average score for the training of the model is: %0.3f\" % np.mean(scores))\n",
    "    rf.fit(X_train, y_train)\n",
    "    predictions_rf = rf.predict(X_test)\n",
    "    r2 = r2_score(y_test, predictions_rf)\n",
    "    print(f\"The R2 score for the validation of the model is: %0.3f\" % r2)"
   ]
  },
  {
   "cell_type": "markdown",
   "metadata": {},
   "source": [
    "##### A RandomForestRegression model with 20 decision trees seems to be a satisfying compromise for model performance and goodness to fit"
   ]
  },
  {
   "cell_type": "markdown",
   "metadata": {},
   "source": [
    "### 3.3.2 Model optimization by identifying the most predictive features"
   ]
  },
  {
   "cell_type": "code",
   "execution_count": 33,
   "metadata": {},
   "outputs": [],
   "source": [
    "# We intend to find out which features are most predictive of the wind power generation.\n",
    "\n",
    "# In order to explain feature selection, we add a column of random numbers. \n",
    "# Any feature less important than a random column should be tossed out.\n",
    "\n",
    "np.random.seed(seed = 42)\n",
    "wind_2 = wind.copy()\n",
    "wind_2['random'] = np.random.random(size = len(X_wind))\n",
    "\n",
    "X_wind_2 = wind_2[['wind_capacity','windspeed_10m', 'radiation_direct_horizontal', 'radiation_diffuse_horizontal', 'irradiance_surface', 'irradiance_toa', 'precipitation', 'snowfall', 'cloud_cover', 'air_density', 'random']]\n",
    "y_wind = wind_2['wind_generation_actual']\n",
    "\n",
    "\n",
    "# We will train the machine learning algorithms on the data for the years 2014 and 2015\n",
    "X_train_master_2 = X_wind_2.loc[(X_wind_2.index >= \"2014-01-01 00:00:00\") & (X_wind_2.index <= \"2015-12-31 23:00:00\")]\n",
    "y_train = y_wind.loc[(X_wind_2.index >= \"2014-01-01 00:00:00\") & (X_wind_2.index <= \"2015-12-31 23:00:00\")]\n",
    "\n",
    "# We will test the models on the data for the year 2016\n",
    "X_test_master_2 = X_wind_2.loc[(X_wind_2.index >= \"2016-01-01 00:00:00\") & (X_wind_2.index <= \"2016-12-31 23:00:00\")]\n",
    "y_test = y_wind.loc[(X_wind_2.index >= \"2016-01-01 00:00:00\") & (X_wind_2.index <= \"2016-12-31 23:00:00\")]\n",
    "\n",
    "selected_features = ['wind_capacity',\n",
    "                     'windspeed_10m',\n",
    "                     'radiation_direct_horizontal',\n",
    "                     'radiation_diffuse_horizontal',\n",
    "                     'irradiance_surface',\n",
    "                     'irradiance_toa',\n",
    "                     'precipitation',\n",
    "                     'snowfall',\n",
    "                     'cloud_cover',\n",
    "                     'air_density',\n",
    "                     'random']\n",
    "\n",
    "X_train = X_train_master_2[selected_features]\n",
    "X_test = X_test_master_2[selected_features]"
   ]
  },
  {
   "cell_type": "code",
   "execution_count": 34,
   "metadata": {},
   "outputs": [
    {
     "name": "stdout",
     "output_type": "stream",
     "text": [
      "Features sorted by their score for the RandomForestRegression model:\n"
     ]
    },
    {
     "data": {
      "text/html": [
       "<div>\n",
       "<style scoped>\n",
       "    .dataframe tbody tr th:only-of-type {\n",
       "        vertical-align: middle;\n",
       "    }\n",
       "\n",
       "    .dataframe tbody tr th {\n",
       "        vertical-align: top;\n",
       "    }\n",
       "\n",
       "    .dataframe thead th {\n",
       "        text-align: right;\n",
       "    }\n",
       "</style>\n",
       "<table border=\"1\" class=\"dataframe\">\n",
       "  <thead>\n",
       "    <tr style=\"text-align: right;\">\n",
       "      <th></th>\n",
       "      <th>features</th>\n",
       "      <th>importances</th>\n",
       "    </tr>\n",
       "  </thead>\n",
       "  <tbody>\n",
       "    <tr>\n",
       "      <th>0</th>\n",
       "      <td>windspeed_10m</td>\n",
       "      <td>0.793</td>\n",
       "    </tr>\n",
       "    <tr>\n",
       "      <th>1</th>\n",
       "      <td>wind_capacity</td>\n",
       "      <td>0.084</td>\n",
       "    </tr>\n",
       "    <tr>\n",
       "      <th>2</th>\n",
       "      <td>radiation_diffuse_horizontal</td>\n",
       "      <td>0.049</td>\n",
       "    </tr>\n",
       "    <tr>\n",
       "      <th>3</th>\n",
       "      <td>precipitation</td>\n",
       "      <td>0.016</td>\n",
       "    </tr>\n",
       "    <tr>\n",
       "      <th>4</th>\n",
       "      <td>air_density</td>\n",
       "      <td>0.015</td>\n",
       "    </tr>\n",
       "    <tr>\n",
       "      <th>5</th>\n",
       "      <td>radiation_direct_horizontal</td>\n",
       "      <td>0.010</td>\n",
       "    </tr>\n",
       "    <tr>\n",
       "      <th>6</th>\n",
       "      <td>cloud_cover</td>\n",
       "      <td>0.010</td>\n",
       "    </tr>\n",
       "    <tr>\n",
       "      <th>7</th>\n",
       "      <td>irradiance_toa</td>\n",
       "      <td>0.008</td>\n",
       "    </tr>\n",
       "    <tr>\n",
       "      <th>8</th>\n",
       "      <td>snowfall</td>\n",
       "      <td>0.007</td>\n",
       "    </tr>\n",
       "    <tr>\n",
       "      <th>9</th>\n",
       "      <td>irradiance_surface</td>\n",
       "      <td>0.005</td>\n",
       "    </tr>\n",
       "    <tr>\n",
       "      <th>10</th>\n",
       "      <td>random</td>\n",
       "      <td>0.005</td>\n",
       "    </tr>\n",
       "  </tbody>\n",
       "</table>\n",
       "</div>"
      ],
      "text/plain": [
       "                        features  importances\n",
       "0                  windspeed_10m        0.793\n",
       "1                  wind_capacity        0.084\n",
       "2   radiation_diffuse_horizontal        0.049\n",
       "3                  precipitation        0.016\n",
       "4                    air_density        0.015\n",
       "5    radiation_direct_horizontal        0.010\n",
       "6                    cloud_cover        0.010\n",
       "7                 irradiance_toa        0.008\n",
       "8                       snowfall        0.007\n",
       "9             irradiance_surface        0.005\n",
       "10                        random        0.005"
      ]
     },
     "execution_count": 34,
     "metadata": {},
     "output_type": "execute_result"
    }
   ],
   "source": [
    "rf = RandomForestRegressor(n_estimators=20)\n",
    "rf.fit(X_train, y_train)\n",
    "\n",
    "rf_features_dict = {}\n",
    "\n",
    "for score, feat in zip(map(lambda x: round(x, 3), rf.feature_importances_), X_train.columns):\n",
    "    rf_features_dict[feat] = score\n",
    "    \n",
    "rf_features_dict_sorted = sorted(rf_features_dict.items(), key=lambda x: x[1], reverse=True)\n",
    "\n",
    "df= pd.DataFrame(rf_features_dict_sorted, columns=['features', 'importances'])\n",
    "\n",
    "print(\"Features sorted by their score for the RandomForestRegression model:\")\n",
    "df"
   ]
  },
  {
   "cell_type": "code",
   "execution_count": 35,
   "metadata": {},
   "outputs": [
    {
     "data": {
      "text/html": [
       "<div>\n",
       "<style scoped>\n",
       "    .dataframe tbody tr th:only-of-type {\n",
       "        vertical-align: middle;\n",
       "    }\n",
       "\n",
       "    .dataframe tbody tr th {\n",
       "        vertical-align: top;\n",
       "    }\n",
       "\n",
       "    .dataframe thead th {\n",
       "        text-align: right;\n",
       "    }\n",
       "</style>\n",
       "<table border=\"1\" class=\"dataframe\">\n",
       "  <thead>\n",
       "    <tr style=\"text-align: right;\">\n",
       "      <th></th>\n",
       "      <th>Importance</th>\n",
       "    </tr>\n",
       "    <tr>\n",
       "      <th>Feature</th>\n",
       "      <th></th>\n",
       "    </tr>\n",
       "  </thead>\n",
       "  <tbody>\n",
       "    <tr>\n",
       "      <th>windspeed_10m</th>\n",
       "      <td>1.832635</td>\n",
       "    </tr>\n",
       "    <tr>\n",
       "      <th>radiation_diffuse_horizontal</th>\n",
       "      <td>0.071685</td>\n",
       "    </tr>\n",
       "    <tr>\n",
       "      <th>irradiance_toa</th>\n",
       "      <td>0.021981</td>\n",
       "    </tr>\n",
       "    <tr>\n",
       "      <th>precipitation</th>\n",
       "      <td>0.013167</td>\n",
       "    </tr>\n",
       "    <tr>\n",
       "      <th>irradiance_surface</th>\n",
       "      <td>0.005540</td>\n",
       "    </tr>\n",
       "    <tr>\n",
       "      <th>snowfall</th>\n",
       "      <td>0.004368</td>\n",
       "    </tr>\n",
       "    <tr>\n",
       "      <th>random</th>\n",
       "      <td>0.000397</td>\n",
       "    </tr>\n",
       "    <tr>\n",
       "      <th>wind_capacity</th>\n",
       "      <td>0.000000</td>\n",
       "    </tr>\n",
       "    <tr>\n",
       "      <th>air_density</th>\n",
       "      <td>-0.000151</td>\n",
       "    </tr>\n",
       "    <tr>\n",
       "      <th>cloud_cover</th>\n",
       "      <td>-0.000622</td>\n",
       "    </tr>\n",
       "    <tr>\n",
       "      <th>radiation_direct_horizontal</th>\n",
       "      <td>-0.001555</td>\n",
       "    </tr>\n",
       "  </tbody>\n",
       "</table>\n",
       "</div>"
      ],
      "text/plain": [
       "                              Importance\n",
       "Feature                                 \n",
       "windspeed_10m                   1.832635\n",
       "radiation_diffuse_horizontal    0.071685\n",
       "irradiance_toa                  0.021981\n",
       "precipitation                   0.013167\n",
       "irradiance_surface              0.005540\n",
       "snowfall                        0.004368\n",
       "random                          0.000397\n",
       "wind_capacity                   0.000000\n",
       "air_density                    -0.000151\n",
       "cloud_cover                    -0.000622\n",
       "radiation_direct_horizontal    -0.001555"
      ]
     },
     "execution_count": 35,
     "metadata": {},
     "output_type": "execute_result"
    }
   ],
   "source": [
    "from rfpimp import importances\n",
    "importances(rf, X_test, y_test)"
   ]
  },
  {
   "cell_type": "code",
   "execution_count": 36,
   "metadata": {},
   "outputs": [
    {
     "data": {
      "image/png": "[encoded data removed]",
      "text/plain": [
       "<Figure size 432x288 with 1 Axes>"
      ]
     },
     "metadata": {
      "needs_background": "light"
     },
     "output_type": "display_data"
    }
   ],
   "source": [
    "result = permutation_importance(rf, X_test, y_test, n_repeats=10,\n",
    "                                random_state=42, n_jobs=2)\n",
    "sorted_idx = result.importances_mean.argsort()\n",
    "\n",
    "fig, ax = plt.subplots()\n",
    "ax.boxplot(result.importances[sorted_idx].T,\n",
    "           vert=False, labels=X_test.columns[sorted_idx])\n",
    "ax.set_title(\"Permutation Importances (test set)\")\n",
    "fig.tight_layout()\n",
    "plt.show()\n",
    "\n",
    "# https://scikit-learn.org/stable/auto_examples/inspection/plot_permutation_importance.html#sphx-glr-auto-examples-inspection-plot-permutation-importance-py"
   ]
  },
  {
   "cell_type": "code",
   "execution_count": 37,
   "metadata": {},
   "outputs": [
    {
     "data": {
      "image/png": "[encoded data removed]",
      "text/plain": [
       "<Figure size 432x288 with 1 Axes>"
      ]
     },
     "metadata": {
      "needs_background": "light"
     },
     "output_type": "display_data"
    }
   ],
   "source": [
    "result = permutation_importance(rf, X_train, y_train, n_repeats=10,\n",
    "                                random_state=42, n_jobs=2)\n",
    "sorted_idx = result.importances_mean.argsort()\n",
    "\n",
    "fig, ax = plt.subplots()\n",
    "ax.boxplot(result.importances[sorted_idx].T,\n",
    "           vert=False, labels=X_train.columns[sorted_idx])\n",
    "ax.set_title(\"Permutation Importances (train set)\")\n",
    "fig.tight_layout()\n",
    "plt.show()"
   ]
  },
  {
   "cell_type": "code",
   "execution_count": 38,
   "metadata": {},
   "outputs": [
    {
     "name": "stdout",
     "output_type": "stream",
     "text": [
      "RF train accuracy: 0.993\n",
      "RF test accuracy: 0.760\n"
     ]
    }
   ],
   "source": [
    "print(\"RF train accuracy: %0.3f\" % rf.score(X_train, y_train))\n",
    "print(\"RF test accuracy: %0.3f\" % rf.score(X_test, y_test))"
   ]
  },
  {
   "cell_type": "code",
   "execution_count": 39,
   "metadata": {},
   "outputs": [
    {
     "data": {
      "image/png": "[encoded data removed]",
      "text/plain": [
       "<Figure size 864x576 with 2 Axes>"
      ]
     },
     "metadata": {
      "needs_background": "light"
     },
     "output_type": "display_data"
    }
   ],
   "source": [
    "viz = plot_corr_heatmap(X_train, figsize=(12,8))\n",
    "viz.view()"
   ]
  },
  {
   "cell_type": "code",
   "execution_count": 40,
   "metadata": {},
   "outputs": [
    {
     "name": "stdout",
     "output_type": "stream",
     "text": [
      "The average score for the RandomForestRegression model (training) is: 0.716\n",
      "The R2 score of the RandomForestRegression model (test) is: 0.721\n",
      "RF train accuracy: 0.980\n",
      "RF test accuracy: 0.721\n"
     ]
    }
   ],
   "source": [
    "selected_features = ['windspeed_10m',\n",
    "                     'radiation_diffuse_horizontal',\n",
    "                     'precipitation',\n",
    "                     'snowfall']\n",
    "\n",
    "X_train = X_train_master_2[selected_features]\n",
    "X_test = X_test_master_2[selected_features]\n",
    "\n",
    "# Frist, we train the model for the prediction for wind power generation based on weather data.\n",
    "rf = RandomForestRegressor(n_estimators=20)\n",
    "scores = cross_val_score(rf, X_train, y_train, cv=5)\n",
    "print(f\"The average score for the RandomForestRegression model (training) is: %0.3f\" % np.mean(scores))\n",
    "\n",
    "# Second, we validate the model for the data for the year 2016.\n",
    "rf.fit(X_train, y_train)\n",
    "predictions_rf = rf.predict(X_test)\n",
    "r2 = r2_score(y_test, predictions_rf)\n",
    "print(f\"The R2 score of the RandomForestRegression model (test) is: %0.3f\" % r2)\n",
    "\n",
    "print(\"RF train accuracy: %0.3f\" % rf.score(X_train, y_train))\n",
    "print(\"RF test accuracy: %0.3f\" % rf.score(X_test, y_test))"
   ]
  },
  {
   "cell_type": "code",
   "execution_count": 41,
   "metadata": {},
   "outputs": [
    {
     "name": "stdout",
     "output_type": "stream",
     "text": [
      "The average score for the RandomForestRegression model (training) is: 0.471\n",
      "The R2 score of the RandomForestRegression model (test) is: 0.555\n",
      "RF train accuracy: 0.949\n",
      "RF test accuracy: 0.555\n"
     ]
    }
   ],
   "source": [
    "selected_features = ['windspeed_10m']\n",
    "\n",
    "X_train = X_train_master_2[selected_features]\n",
    "X_test = X_test_master_2[selected_features]\n",
    "\n",
    "# Frist, we train the model for the prediction for wind power generation based on weather data.\n",
    "rf = RandomForestRegressor(n_estimators=20)\n",
    "scores = cross_val_score(rf, X_train, y_train, cv=5)\n",
    "print(f\"The average score for the RandomForestRegression model (training) is: %0.3f\" % np.mean(scores))\n",
    "\n",
    "# Second, we validate the model for the data for the year 2016.\n",
    "rf.fit(X_train, y_train)\n",
    "predictions_rf = rf.predict(X_test)\n",
    "r2 = r2_score(y_test, predictions_rf)\n",
    "print(f\"The R2 score of the RandomForestRegression model (test) is: %0.3f\" % r2)\n",
    "\n",
    "print(\"RF train accuracy: %0.3f\" % rf.score(X_train, y_train))\n",
    "print(\"RF test accuracy: %0.3f\" % rf.score(X_test, y_test))"
   ]
  },
  {
   "cell_type": "code",
   "execution_count": null,
   "metadata": {},
   "outputs": [],
   "source": []
  }
 ],
 "metadata": {
  "kernelspec": {
   "display_name": "Python 3",
   "language": "python",
   "name": "python3"
  },
  "language_info": {
   "codemirror_mode": {
    "name": "ipython",
    "version": 3
   },
   "file_extension": ".py",
   "mimetype": "text/x-python",
   "name": "python",
   "nbconvert_exporter": "python",
   "pygments_lexer": "ipython3",
   "version": "3.8.1"
  }
 },
 "nbformat": 4,
 "nbformat_minor": 4
}
